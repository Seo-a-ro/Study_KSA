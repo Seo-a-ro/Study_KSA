{
 "cells": [
  {
   "cell_type": "markdown",
   "metadata": {},
   "source": [
    "### 벡터와 행렬의 기본연산"
   ]
  },
  {
   "cell_type": "code",
   "execution_count": 89,
   "metadata": {},
   "outputs": [
    {
     "name": "stdout",
     "output_type": "stream",
     "text": [
      "[[1 4]\n",
      " [3 4]]\n",
      "[[-1  2]\n",
      " [-1  0]]\n"
     ]
    }
   ],
   "source": [
    "# 덧셈과 뺄셈\n",
    "A = np.array([[0,3],[1,2]])\n",
    "B = np.array([[1,1],[2,2]])\n",
    "print(A+B)\n",
    "print(A-B)"
   ]
  },
  {
   "cell_type": "markdown",
   "metadata": {},
   "source": [
    "#### 백터/ 행렬의 덧셈은 교환법칙, 결합법칙 성립\n",
    "#### A+B = B+A\n",
    "#### (A+B)+C = A+(B+C) "
   ]
  },
  {
   "cell_type": "code",
   "execution_count": 93,
   "metadata": {},
   "outputs": [
    {
     "name": "stdout",
     "output_type": "stream",
     "text": [
      "[[3 4 5]\n",
      " [7 8 9]]\n",
      "[[3 4 5]\n",
      " [7 8 9]]\n"
     ]
    }
   ],
   "source": [
    "a = np.array([[1,2,3],[4,5,6]])\n",
    "b = np.array([[2,2,2],[3,3,3]])\n",
    "print(a+b)\n",
    "print(b+a)"
   ]
  },
  {
   "cell_type": "code",
   "execution_count": 94,
   "metadata": {},
   "outputs": [
    {
     "name": "stdout",
     "output_type": "stream",
     "text": [
      "[[6 6]\n",
      " [9 9]]\n",
      "[[6 6]\n",
      " [9 9]]\n"
     ]
    }
   ],
   "source": [
    "A =np.array([[0,0],[1,1]])\n",
    "B =np.array([[2,2],[3,3]])\n",
    "C =np.array([[4,4],[5,5]])\n",
    "\n",
    "print((A+B)+C)\n",
    "print(A+(B+C))"
   ]
  },
  {
   "cell_type": "markdown",
   "metadata": {},
   "source": [
    "#### numpy의 브로드캐스팅\n",
    "* 벡터의 스칼라의 덧셈/뺄셈의 경우, 스칼라를 벡터로 변환해서, 연산이 가능하게 함\n",
    "* 행렬도 유사한 방식으로 스칼라를 행렬로 변환해서 연산이 가능하게 함 "
   ]
  },
  {
   "cell_type": "code",
   "execution_count": 95,
   "metadata": {},
   "outputs": [
    {
     "name": "stdout",
     "output_type": "stream",
     "text": [
      "[[-1  0  1]]\n",
      "[[-1  0  1]]\n"
     ]
    }
   ],
   "source": [
    "A =np.array([[1,2,3]])\n",
    "print(A-2)\n",
    "print(A-np.array([2,2,2]))"
   ]
  },
  {
   "cell_type": "code",
   "execution_count": 96,
   "metadata": {},
   "outputs": [
    {
     "name": "stdout",
     "output_type": "stream",
     "text": [
      "[[2 3 4]\n",
      " [5 6 7]]\n"
     ]
    }
   ],
   "source": [
    "A = np.array([[1,2,3],[4,5,6]])\n",
    "print(A+1)"
   ]
  },
  {
   "cell_type": "markdown",
   "metadata": {},
   "source": [
    "#### 전치(transpose)\n",
    "* 행렬의 행과 열을 교환하는 것\n",
    "* nxm 행렬을 전치하면 mxn 행렬이 됨 "
   ]
  },
  {
   "cell_type": "code",
   "execution_count": 99,
   "metadata": {
    "scrolled": true
   },
   "outputs": [
    {
     "name": "stdout",
     "output_type": "stream",
     "text": [
      "[[1 2]\n",
      " [3 4]\n",
      " [5 6]]\n",
      "\n",
      "[[1 3 5]\n",
      " [2 4 6]]\n",
      "\n",
      "[[1 3 5]\n",
      " [2 4 6]]\n",
      "\n",
      "[[1 2]\n",
      " [3 4]\n",
      " [5 6]]\n"
     ]
    }
   ],
   "source": [
    "A = np.array([[1,2],[3,4],[5,6]])\n",
    "print(A)\n",
    "print()\n",
    "print(A.T) # 전치\n",
    "print()\n",
    "print(np.transpose(A)) # 전치 \n",
    "print()\n",
    "print(A.T.T)"
   ]
  },
  {
   "cell_type": "markdown",
   "metadata": {},
   "source": [
    "#### 곱셈"
   ]
  },
  {
   "cell_type": "code",
   "execution_count": 2,
   "metadata": {},
   "outputs": [],
   "source": [
    "import numpy as np"
   ]
  },
  {
   "cell_type": "code",
   "execution_count": 3,
   "metadata": {},
   "outputs": [
    {
     "name": "stdout",
     "output_type": "stream",
     "text": [
      "[3 6]\n",
      "[-1 -2]\n"
     ]
    }
   ],
   "source": [
    "a = np.array([1,2])\n",
    "print(a*3)\n",
    "print((-1)*a)"
   ]
  },
  {
   "cell_type": "code",
   "execution_count": 4,
   "metadata": {},
   "outputs": [
    {
     "name": "stdout",
     "output_type": "stream",
     "text": [
      "[[  0  -3  -6]\n",
      " [ -9 -12 -15]]\n",
      "[[ 0  2  4]\n",
      " [ 6  8 10]]\n"
     ]
    }
   ],
   "source": [
    "a= np.array([[0,1,2],[3,4,5]])\n",
    "print((-3)*a)\n",
    "print(2*a)"
   ]
  },
  {
   "cell_type": "markdown",
   "metadata": {},
   "source": [
    "#### 행렬의 곱셈\n",
    "* 벡터의 길이를 스칼라의 절댓값의 배수만큼 늘리거나 줄임 \n",
    "* 이때, 스칼라가 양수이면 방향은 동일하고, 음수이면 방향이 바뀜"
   ]
  },
  {
   "cell_type": "markdown",
   "metadata": {},
   "source": [
    "!! 주의 \n",
    "* 두 행렬 A,B의 곱 AB가 정의되려면 행렬 A의 열의 개수와 행렬 B의 행의 개수가 서로 같아야 함 \n",
    "* nxm 행렬과 mxk행렬의 곱셈 결과 : nxk행렬\n",
    "* 따라서 행렬의 곱셈에 대한 교환법칙이 성립되지 않음"
   ]
  },
  {
   "cell_type": "code",
   "execution_count": 5,
   "metadata": {},
   "outputs": [
    {
     "name": "stdout",
     "output_type": "stream",
     "text": [
      "[[ 6  6  6]\n",
      " [12 12 12]]\n",
      "[[ 6  6  6]\n",
      " [12 12 12]]\n"
     ]
    }
   ],
   "source": [
    "A = np.array([[1,1,1],[2,2,2]])\n",
    "B = np.array([[1,1,1],[2,2,2],[3,3,3]])\n",
    "print(np.dot(A,B))\n",
    "print(A@B)"
   ]
  },
  {
   "cell_type": "markdown",
   "metadata": {},
   "source": [
    "#### 벡터"
   ]
  },
  {
   "cell_type": "code",
   "execution_count": 100,
   "metadata": {
    "scrolled": true
   },
   "outputs": [
    {
     "name": "stdout",
     "output_type": "stream",
     "text": [
      "sqrt(sum(x*x)) = 5.0\n",
      "norm(x)= 5.0\n"
     ]
    }
   ],
   "source": [
    "# 벡터의 길이(norm)\n",
    "x = np.array([3,4])\n",
    "print(\"sqrt(sum(x*x)) =\", np.sqrt(np.sum(x*x)))\n",
    "print(\"norm(x)=\", np.linalg.norm(x))"
   ]
  },
  {
   "cell_type": "code",
   "execution_count": 101,
   "metadata": {},
   "outputs": [
    {
     "name": "stdout",
     "output_type": "stream",
     "text": [
      "norm(x)= 10.488088481701515\n"
     ]
    }
   ],
   "source": [
    "x = np.array([5,6,7])\n",
    "print(\"norm(x)=\",np.linalg.norm(x))"
   ]
  },
  {
   "cell_type": "markdown",
   "metadata": {},
   "source": [
    "#### 단위벡터\n",
    "* 단위벡터: 영벡터가 아닌 벡터의 정규화 \n",
    "* 크기가 1인 벡터 \n",
    "* 원래 벡터와 방향이 동일함 "
   ]
  },
  {
   "cell_type": "code",
   "execution_count": 7,
   "metadata": {},
   "outputs": [
    {
     "name": "stdout",
     "output_type": "stream",
     "text": [
      "[0.6 0.8]\n",
      "1.0\n"
     ]
    }
   ],
   "source": [
    "v = np.array([3,4])\n",
    "u = v / np.linalg.norm(v) # 단위벡터 \n",
    "print(u)\n",
    "print(np.linalg.norm(u)) # 크기가 1인 벡터 "
   ]
  },
  {
   "cell_type": "code",
   "execution_count": 12,
   "metadata": {},
   "outputs": [
    {
     "name": "stdout",
     "output_type": "stream",
     "text": [
      "[0.47673129 0.57207755 0.66742381]\n",
      "0.9999999999999999\n"
     ]
    }
   ],
   "source": [
    "v = np.array([5,6,7])\n",
    "u = v/np.linalg.norm(v)\n",
    "print(u)\n",
    "print(np.linalg.norm(u))"
   ]
  },
  {
   "cell_type": "markdown",
   "metadata": {},
   "source": [
    " #### 벡터의 내적 \n",
    "* 두 벡터의 길이가 동일할 때 연산 가능 \n",
    "* 특징: 연산 결과가 벡터가 아니라 스칼라 \n",
    "* 벡터의 길이를 내적으로 표현 가능 "
   ]
  },
  {
   "cell_type": "code",
   "execution_count": 13,
   "metadata": {},
   "outputs": [
    {
     "name": "stdout",
     "output_type": "stream",
     "text": [
      "-7\n"
     ]
    }
   ],
   "source": [
    "x = np.array([2,5,6,7])\n",
    "y = np.array([3,-3,-2,2])\n",
    "print(np.dot(x,y))"
   ]
  },
  {
   "cell_type": "code",
   "execution_count": 14,
   "metadata": {},
   "outputs": [
    {
     "name": "stdout",
     "output_type": "stream",
     "text": [
      "20\n"
     ]
    }
   ],
   "source": [
    "x = np.array([1,2,3,4])\n",
    "y = np.array([4,3,2,1])\n",
    "print(np.dot(x,y))"
   ]
  },
  {
   "cell_type": "code",
   "execution_count": 15,
   "metadata": {},
   "outputs": [
    {
     "name": "stdout",
     "output_type": "stream",
     "text": [
      "sqrt(dot(x,x))=  5.0\n",
      "sqrt(sum(x*x))=  5.0\n",
      "norm(x)=  5.0\n"
     ]
    }
   ],
   "source": [
    "# 벡터의 길이를 내적으로 표현 가능 \n",
    "x = np.array([3,4])\n",
    "print(\"sqrt(dot(x,x))= \", np.sqrt(np.dot(x,x)))  \n",
    "print(\"sqrt(sum(x*x))= \", np.sqrt(np.sum(x*x)))\n",
    "print(\"norm(x)= \", np.linalg.norm(x))"
   ]
  },
  {
   "cell_type": "code",
   "execution_count": 25,
   "metadata": {},
   "outputs": [
    {
     "data": {
      "text/plain": [
       "<matplotlib.image.AxesImage at 0x219391b4940>"
      ]
     },
     "execution_count": 25,
     "metadata": {},
     "output_type": "execute_result"
    },
    {
     "data": {
      "image/png": "[encoded data removed]",
      "text/plain": [
       "<Figure size 432x288 with 1 Axes>"
      ]
     },
     "metadata": {
      "needs_background": "light"
     },
     "output_type": "display_data"
    }
   ],
   "source": [
    "from sklearn.datasets import load_digits\n",
    "import matplotlib.pyplot as plt\n",
    "digits = load_digits() #이미지불러오기\n",
    "d1 = digits.images[0]\n",
    "plt.imshow(d1)"
   ]
  },
  {
   "cell_type": "code",
   "execution_count": 26,
   "metadata": {
    "scrolled": true
   },
   "outputs": [
    {
     "data": {
      "text/plain": [
       "(8, 8)"
      ]
     },
     "execution_count": 26,
     "metadata": {},
     "output_type": "execute_result"
    }
   ],
   "source": [
    "d1 \n",
    "d1.shape"
   ]
  },
  {
   "cell_type": "code",
   "execution_count": null,
   "metadata": {},
   "outputs": [],
   "source": [
    "#1. 행렬을 벡터로 바꾸기 \n",
    "# 내적과 norm 을 구하는 코드 이용해서 cos 유사도 값을 구하기 \n",
    "# 0과 10 을 비교 "
   ]
  },
  {
   "cell_type": "code",
   "execution_count": 27,
   "metadata": {},
   "outputs": [
    {
     "data": {
      "text/plain": [
       "array([[ 0.,  0.,  5., 13.,  9.,  1.,  0.,  0.],\n",
       "       [ 0.,  0., 13., 15., 10., 15.,  5.,  0.],\n",
       "       [ 0.,  3., 15.,  2.,  0., 11.,  8.,  0.],\n",
       "       [ 0.,  4., 12.,  0.,  0.,  8.,  8.,  0.],\n",
       "       [ 0.,  5.,  8.,  0.,  0.,  9.,  8.,  0.],\n",
       "       [ 0.,  4., 11.,  0.,  1., 12.,  7.,  0.],\n",
       "       [ 0.,  2., 14.,  5., 10., 12.,  0.,  0.],\n",
       "       [ 0.,  0.,  6., 13., 10.,  0.,  0.,  0.]])"
      ]
     },
     "execution_count": 27,
     "metadata": {},
     "output_type": "execute_result"
    }
   ],
   "source": [
    "d1"
   ]
  },
  {
   "cell_type": "code",
   "execution_count": 28,
   "metadata": {},
   "outputs": [],
   "source": [
    " b =d1.ravel\n",
    "# b=d1.flatten()\n",
    "# b= d1.reshape(-1)\n"
   ]
  },
  {
   "cell_type": "code",
   "execution_count": 29,
   "metadata": {},
   "outputs": [
    {
     "data": {
      "text/plain": [
       "array([ 0.,  0.,  5., 13.,  9.,  1.,  0.,  0.,  0.,  0., 13., 15., 10.,\n",
       "       15.,  5.,  0.,  0.,  3., 15.,  2.,  0., 11.,  8.,  0.,  0.,  4.,\n",
       "       12.,  0.,  0.,  8.,  8.,  0.,  0.,  5.,  8.,  0.,  0.,  9.,  8.,\n",
       "        0.,  0.,  4., 11.,  0.,  1., 12.,  7.,  0.,  0.,  2., 14.,  5.,\n",
       "       10., 12.,  0.,  0.,  0.,  0.,  6., 13., 10.,  0.,  0.,  0.])"
      ]
     },
     "execution_count": 29,
     "metadata": {},
     "output_type": "execute_result"
    }
   ],
   "source": [
    "b"
   ]
  },
  {
   "cell_type": "code",
   "execution_count": 30,
   "metadata": {},
   "outputs": [],
   "source": [
    "import numpy as np"
   ]
  },
  {
   "cell_type": "code",
   "execution_count": 48,
   "metadata": {},
   "outputs": [
    {
     "name": "stdout",
     "output_type": "stream",
     "text": [
      "sqrt(dot(b,b))=  55.40758070878027\n",
      "sqrt(sum(b*b))=  55.40758070878027\n",
      "norm(b)=  55.40758070878027\n"
     ]
    }
   ],
   "source": [
    "print(\"sqrt(dot(b,b))= \", np.sqrt(np.dot(b,b)))# 크기를 구하는 함수 \n",
    "print(\"sqrt(sum(b*b))= \", np.sqrt(np.sum(b*b)))# 크기를 구하는 함수 \n",
    "print(\"norm(b)= \", np.linalg.norm(b))# 크기를 구하는 함수 "
   ]
  },
  {
   "cell_type": "code",
   "execution_count": 66,
   "metadata": {},
   "outputs": [
    {
     "data": {
      "text/plain": [
       "<matplotlib.image.AxesImage at 0x21939573ac0>"
      ]
     },
     "execution_count": 66,
     "metadata": {},
     "output_type": "execute_result"
    },
    {
     "data": {
      "image/png": "[encoded data removed]",
      "text/plain": [
       "<Figure size 432x288 with 1 Axes>"
      ]
     },
     "metadata": {
      "needs_background": "light"
     },
     "output_type": "display_data"
    }
   ],
   "source": [
    "from sklearn.datasets import load_digits\n",
    "import matplotlib.pyplot as plt\n",
    "digits = load_digits() #이미지불러오기\n",
    "d2 = digits.images[1]\n",
    "plt.imshow(d2)"
   ]
  },
  {
   "cell_type": "code",
   "execution_count": 67,
   "metadata": {},
   "outputs": [],
   "source": [
    "c=d2.ravel()"
   ]
  },
  {
   "cell_type": "code",
   "execution_count": 68,
   "metadata": {},
   "outputs": [
    {
     "data": {
      "text/plain": [
       "array([ 0.,  0.,  0., 12., 13.,  5.,  0.,  0.,  0.,  0.,  0., 11., 16.,\n",
       "        9.,  0.,  0.,  0.,  0.,  3., 15., 16.,  6.,  0.,  0.,  0.,  7.,\n",
       "       15., 16., 16.,  2.,  0.,  0.,  0.,  0.,  1., 16., 16.,  3.,  0.,\n",
       "        0.,  0.,  0.,  1., 16., 16.,  6.,  0.,  0.,  0.,  0.,  1., 16.,\n",
       "       16.,  6.,  0.,  0.,  0.,  0.,  0., 11., 16., 10.,  0.,  0.])"
      ]
     },
     "execution_count": 68,
     "metadata": {},
     "output_type": "execute_result"
    }
   ],
   "source": [
    "c"
   ]
  },
  {
   "cell_type": "code",
   "execution_count": 69,
   "metadata": {},
   "outputs": [
    {
     "name": "stdout",
     "output_type": "stream",
     "text": [
      "sqrt(dot(c,c))=  64.87680633323437\n",
      "sqrt(sum(c*c))=  64.87680633323437\n",
      "norm(c)=  64.87680633323437\n"
     ]
    }
   ],
   "source": [
    "print(\"sqrt(dot(c,c))= \", np.sqrt(np.dot(c,c)))  # 길이를 구하는 함수 (세개중 하나 선택)\n",
    "print(\"sqrt(sum(c*c))= \", np.sqrt(np.sum(c*c)))# 길이를 구하는 함수\n",
    "print(\"norm(c)= \", np.linalg.norm(c)) # 길이를 구하는 함수"
   ]
  },
  {
   "cell_type": "code",
   "execution_count": 70,
   "metadata": {},
   "outputs": [
    {
     "name": "stdout",
     "output_type": "stream",
     "text": [
      "norm(b)=  55.40758070878027\n",
      "norm(c)=  64.87680633323437\n"
     ]
    }
   ],
   "source": [
    "print(\"norm(b)= \", np.linalg.norm(b))# 0의 길이를 구하는 함수 \n",
    "print(\"norm(c)= \", np.linalg.norm(c)) # 1의 길이를 구하는 함수"
   ]
  },
  {
   "cell_type": "code",
   "execution_count": 71,
   "metadata": {},
   "outputs": [],
   "source": [
    "cosine_simil=np.dot(b,c)/(np.linalg.norm(b)*np.linalg.norm(c)) #코사인유사도 (0과1)"
   ]
  },
  {
   "cell_type": "code",
   "execution_count": 72,
   "metadata": {},
   "outputs": [
    {
     "data": {
      "text/plain": [
       "0.5191023426414686"
      ]
     },
     "execution_count": 72,
     "metadata": {},
     "output_type": "execute_result"
    }
   ],
   "source": [
    "cosine_simil #0과 1의 코사인유사도"
   ]
  },
  {
   "cell_type": "code",
   "execution_count": 73,
   "metadata": {},
   "outputs": [],
   "source": [
    "cosine_simil_0=np.dot(b,b)/(np.linalg.norm(b)*np.linalg.norm(b)) #코사인유사도 (0과0)"
   ]
  },
  {
   "cell_type": "code",
   "execution_count": 74,
   "metadata": {},
   "outputs": [
    {
     "data": {
      "text/plain": [
       "1.0"
      ]
     },
     "execution_count": 74,
     "metadata": {},
     "output_type": "execute_result"
    }
   ],
   "source": [
    "cosine_simil_0 # 0과 0의 코사인유사도 "
   ]
  },
  {
   "cell_type": "markdown",
   "metadata": {},
   "source": [
    "#### 벡터의 직교\n",
    "* 두 벡터 x,y가 직교한다 -> 두 벡터 사이의 각도가 90도다."
   ]
  },
  {
   "cell_type": "code",
   "execution_count": 16,
   "metadata": {},
   "outputs": [
    {
     "name": "stdout",
     "output_type": "stream",
     "text": [
      "0\n"
     ]
    }
   ],
   "source": [
    "x = np.array([1,0])\n",
    "y = np.array([0,1])\n",
    "print(np.dot(x,y))"
   ]
  },
  {
   "cell_type": "markdown",
   "metadata": {},
   "source": [
    "#### 벡터의 선형결합/일차결합"
   ]
  },
  {
   "cell_type": "code",
   "execution_count": 17,
   "metadata": {},
   "outputs": [
    {
     "name": "stdout",
     "output_type": "stream",
     "text": [
      "[1 2]\n",
      "[-7  1]\n"
     ]
    }
   ],
   "source": [
    "v1 = np.array([-1,1])\n",
    "v2 = np.array([2,1])\n",
    "u1 = v1+v2\n",
    "u2 = 3*v1-2*v2\n",
    "print(u1)\n",
    "print(u2)"
   ]
  },
  {
   "cell_type": "markdown",
   "metadata": {},
   "source": [
    "#### 행렬"
   ]
  },
  {
   "cell_type": "code",
   "execution_count": 18,
   "metadata": {},
   "outputs": [
    {
     "data": {
      "text/plain": [
       "array([[1, 0, 0, 0],\n",
       "       [0, 2, 0, 0],\n",
       "       [0, 0, 3, 0],\n",
       "       [0, 0, 0, 4]])"
      ]
     },
     "execution_count": 18,
     "metadata": {},
     "output_type": "execute_result"
    }
   ],
   "source": [
    "# 대각행렬\n",
    "np.diag([1,2,3,4])"
   ]
  },
  {
   "cell_type": "code",
   "execution_count": 21,
   "metadata": {},
   "outputs": [
    {
     "data": {
      "text/plain": [
       "array([[1., 0., 0.],\n",
       "       [0., 1., 0.],\n",
       "       [0., 0., 1.]])"
      ]
     },
     "execution_count": 21,
     "metadata": {},
     "output_type": "execute_result"
    }
   ],
   "source": [
    "#항등행렬\n",
    "np.eye(3)"
   ]
  },
  {
   "cell_type": "code",
   "execution_count": 22,
   "metadata": {},
   "outputs": [
    {
     "data": {
      "text/plain": [
       "array([[1., 0., 0.],\n",
       "       [0., 1., 0.],\n",
       "       [0., 0., 1.]])"
      ]
     },
     "execution_count": 22,
     "metadata": {},
     "output_type": "execute_result"
    }
   ],
   "source": [
    "# 항등행렬\n",
    "np.identity(3)"
   ]
  },
  {
   "cell_type": "markdown",
   "metadata": {},
   "source": [
    "#### 역행렬 "
   ]
  },
  {
   "cell_type": "code",
   "execution_count": 23,
   "metadata": {},
   "outputs": [
    {
     "name": "stdout",
     "output_type": "stream",
     "text": [
      "[[ 0.5 -1.5]\n",
      " [ 0.   1. ]]\n"
     ]
    }
   ],
   "source": [
    "A = np.array([[2,3],[0,1]])\n",
    "print(np.linalg.inv(A))"
   ]
  },
  {
   "cell_type": "code",
   "execution_count": 24,
   "metadata": {},
   "outputs": [
    {
     "name": "stdout",
     "output_type": "stream",
     "text": [
      "[[ 1. -3.]\n",
      " [ 0.  1.]]\n"
     ]
    }
   ],
   "source": [
    "A = np.array([[1,3],[0,1]])\n",
    "print(np.linalg.inv(A))"
   ]
  },
  {
   "cell_type": "markdown",
   "metadata": {},
   "source": [
    "#### 행렬식\n",
    "* 정방 행렬일 때만 정의하는 값으로 det A로 표기\n",
    "* 역행렬이 존재하는지 확인할 때 사용\n",
    "- 행렬식이 0인 행렬은 역행렬이 존재하지않음"
   ]
  },
  {
   "cell_type": "code",
   "execution_count": 26,
   "metadata": {},
   "outputs": [
    {
     "name": "stdout",
     "output_type": "stream",
     "text": [
      "17.999999999999996\n"
     ]
    }
   ],
   "source": [
    "A = np.array([[3,6,5],[0,1,3],[3,4,5]])\n",
    "print(np.linalg.det(A))"
   ]
  },
  {
   "cell_type": "markdown",
   "metadata": {},
   "source": [
    "#### 대각합(trace)\n",
    "* 정방 행렬일대만 정의하는 값으로 tr(A)로 표기"
   ]
  },
  {
   "cell_type": "code",
   "execution_count": 27,
   "metadata": {},
   "outputs": [
    {
     "name": "stdout",
     "output_type": "stream",
     "text": [
      "10\n"
     ]
    }
   ],
   "source": [
    "A = np.array([[4,7],[3,6]])\n",
    "print(np.trace(A))"
   ]
  },
  {
   "cell_type": "markdown",
   "metadata": {},
   "source": [
    "#### 선형변환(Linear transformation)"
   ]
  },
  {
   "cell_type": "code",
   "execution_count": 30,
   "metadata": {},
   "outputs": [
    {
     "name": "stdout",
     "output_type": "stream",
     "text": [
      "원래좌표: [0 0] [2 0] [0 2] [2 2]\n",
      "변환된 좌표: [0 0] [2 0] [6 2] [8 2]\n"
     ]
    }
   ],
   "source": [
    "A = np.array([[1,3],[0,1]])\n",
    "X = np.array([[0,0],[2,0],[0,2],[2,2]]).T\n",
    "AX =A@X\n",
    "print(\"원래좌표:\",X[:,0],X[:,1],X[:,2],X[:,3])\n",
    "print(\"변환된 좌표:\",AX[:,0],AX[:,1],AX[:,2],AX[:,3])"
   ]
  },
  {
   "cell_type": "code",
   "execution_count": 48,
   "metadata": {},
   "outputs": [
    {
     "name": "stdout",
     "output_type": "stream",
     "text": [
      "[[ 0.          1.         -0.73205081 -1.73205081]\n",
      " [ 0.          1.73205081  2.73205081  1.        ]]\n"
     ]
    },
    {
     "data": {
      "image/png": "[encoded data removed]",
      "text/plain": [
       "<Figure size 432x288 with 1 Axes>"
      ]
     },
     "metadata": {
      "needs_background": "light"
     },
     "output_type": "display_data"
    }
   ],
   "source": [
    "# 회전변환\n",
    "import matplotlib.pyplot as plt\n",
    "import matplotlib.patches as patches\n",
    "\n",
    "theta = 1/3*np.pi # 60도 \n",
    "A = np.array([[np.cos(theta), -np.sin(theta)],[np.sin(theta), np.cos(theta)]])\n",
    "X = np.array([[0, 0], [2, 0], [2, 2], [0,2]]).T\n",
    "AX = A@X\n",
    "print(AX)\n",
    "\n",
    "fig = plt.figure()\n",
    "ax = fig.add_subplot(111, aspect ='equal')\n",
    "plt.axis([-5,5,-5,5])\n",
    "ax.axvline(x =0, color='black')\n",
    "ax.axhline(y =0, color='black')\n",
    "ax.add_patch(patches.Polygon(xy=[X[:, 0],X[:, 1],X[:, 2], X[:, 3]], color='r',fill=True))\n",
    "ax.add_patch(patches.Polygon(xy=[AX[:, 0],AX[:, 1],AX[:, 2], AX[:, 3],],color='b',fill=True))\n",
    "plt.show()\n"
   ]
  },
  {
   "cell_type": "markdown",
   "metadata": {},
   "source": [
    "#### 고윳값 (eigenvalue)/ 고유벡터(eigenvector)\n",
    "* 고유값(eigenvalue)과 고유벡터(eigenvector)\n",
    "* nxn 행렬 A와 어떤 스칼라 λ에 대해 Ax =λx를 만족하는 영이 아닌 벡터x가 존재하면, 이때, x를 행렬 A의 고유벡터(eigenvector)라 하고, 스칼라 λ를 a의 고윳값(eigenvalue)라고 한다. \n",
    "* 어떤 스칼라 λ가 nxn 행렬 A의 고윳값이 되는 필요 충분 조건은 λ가 det(A-λI)=0 을 만족시킴\n",
    "* nxn 행렬 A는 n개의 고윳값을 갖는다. "
   ]
  },
  {
   "cell_type": "code",
   "execution_count": 50,
   "metadata": {},
   "outputs": [
    {
     "name": "stdout",
     "output_type": "stream",
     "text": [
      "[8. 2.]\n",
      "[[ 0.70710678 -0.70710678]\n",
      " [ 0.70710678  0.70710678]]\n"
     ]
    }
   ],
   "source": [
    "A = np.array([[5,3],[3,5]])\n",
    "w,v = np.linalg.eig(A)\n",
    "print(w)\n",
    "print(v)"
   ]
  }
 ],
 "metadata": {
  "kernelspec": {
   "display_name": "Python 3",
   "language": "python",
   "name": "python3"
  },
  "language_info": {
   "codemirror_mode": {
    "name": "ipython",
    "version": 3
   },
   "file_extension": ".py",
   "mimetype": "text/x-python",
   "name": "python",
   "nbconvert_exporter": "python",
   "pygments_lexer": "ipython3",
   "version": "3.8.5"
  }
 },
 "nbformat": 4,
 "nbformat_minor": 4
}
