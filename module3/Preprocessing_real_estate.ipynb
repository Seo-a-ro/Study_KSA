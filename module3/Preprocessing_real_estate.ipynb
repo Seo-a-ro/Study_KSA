{
 "cells": [
  {
   "cell_type": "code",
   "execution_count": 1,
   "id": "9c08ca2f",
   "metadata": {},
   "outputs": [],
   "source": [
    "import sys\n",
    "assert sys.version_info >= (3,5)\n",
    "\n",
    "# 사이킷런 >=0.20 필수\n",
    "import sklearn\n",
    "assert sklearn.__version__ >= \"0.20\"\n",
    "\n",
    "# 공통 모듈 임포트\n",
    "import numpy as np\n",
    "import os\n",
    "\n",
    "# 깔끔한 그래프 출력을 위해 \n",
    "%matplotlib inline\n",
    "import matplotlib as mpl\n",
    "import matplotlib.pyplot as plt\n",
    "mpl.rc('axes', labelsize=14)\n",
    "mpl.rc('xtick', labelsize=12)\n",
    "mpl.rc('ytick', labelsize=12)\n"
   ]
  },
  {
   "cell_type": "code",
   "execution_count": 2,
   "id": "1a1cf39c",
   "metadata": {},
   "outputs": [],
   "source": [
    "# 그래프에서 마이너스 폰트 깨지는 문제 해결\n",
    "mpl.rcParams['axes.unicode_minus'] = False\n",
    "\n",
    "# 한글폰트 사용\n",
    "plt.rcParams[\"font.size\"] = 12\n",
    "plt.rcParams[\"font.family\"] = 'NanumGothic'\n",
    "plt.rcParams['xtick.labelsize'] = 12.\n",
    "plt.rcParams['ytick.labelsize'] = 12."
   ]
  },
  {
   "cell_type": "code",
   "execution_count": 3,
   "id": "32e6db49",
   "metadata": {},
   "outputs": [],
   "source": [
    "# 시각화\n",
    "# 그림을 저장할 위치 \n",
    "PROJECT_ROOT_DIR = \".\"\n",
    "CHAPTER_ID = \"ml_project\"\n",
    "IMAGES_PATH = os.path.join(PROJECT_ROOT_DIR, \"images\", CHAPTER_ID)\n",
    "os.makedirs(IMAGES_PATH, exist_ok=True)\n",
    "\n",
    "def save_fig(fig_id, tight_layout=True, fig_extension=\"png\", resolution=300):\n",
    "    path = os.path.join(IMAGES_PATH, fig_id + \".\"+fig_extension)\n",
    "    print(\"그림 저장: \",fig_id)\n",
    "    \n",
    "    if tight_layout:\n",
    "        plt.tight_layout()\n",
    "    plt.savefig(path, format=fig_extension, dpi=resolution)\n",
    "    \n",
    "# 불필요한 경고 무시\n",
    "import warnings\n",
    "warnings.filterwarnings(action = \"ignore\", message=\"^internal gelsd\")\n"
   ]
  },
  {
   "cell_type": "code",
   "execution_count": 4,
   "id": "4f56fc74",
   "metadata": {},
   "outputs": [
    {
     "name": "stderr",
     "output_type": "stream",
     "text": [
      "C:\\Users\\aro\\anaconda3\\envs\\envexample\\lib\\site-packages\\IPython\\core\\interactiveshell.py:3357: DtypeWarning: Columns (1) have mixed types.Specify dtype option on import or set low_memory=False.\n",
      "  if (await self.run_code(code, result,  async_=asy)):\n"
     ]
    },
    {
     "data": {
      "text/html": [
       "<div>\n",
       "<style scoped>\n",
       "    .dataframe tbody tr th:only-of-type {\n",
       "        vertical-align: middle;\n",
       "    }\n",
       "\n",
       "    .dataframe tbody tr th {\n",
       "        vertical-align: top;\n",
       "    }\n",
       "\n",
       "    .dataframe thead th {\n",
       "        text-align: right;\n",
       "    }\n",
       "</style>\n",
       "<table border=\"1\" class=\"dataframe\">\n",
       "  <thead>\n",
       "    <tr style=\"text-align: right;\">\n",
       "      <th></th>\n",
       "      <th>실거래가아이디</th>\n",
       "      <th>지번코드</th>\n",
       "      <th>시군구코드</th>\n",
       "      <th>자치구명</th>\n",
       "      <th>법정동코드</th>\n",
       "      <th>법정동명</th>\n",
       "      <th>신고년도</th>\n",
       "      <th>업무구분코드</th>\n",
       "      <th>업무구분</th>\n",
       "      <th>물건번호</th>\n",
       "      <th>대지권면적</th>\n",
       "      <th>건물면적</th>\n",
       "      <th>관리구분코드</th>\n",
       "      <th>층정보</th>\n",
       "      <th>건물주용도코드</th>\n",
       "      <th>건물주용도</th>\n",
       "      <th>물건금액</th>\n",
       "      <th>건축년도</th>\n",
       "      <th>건물명</th>\n",
       "    </tr>\n",
       "  </thead>\n",
       "  <tbody>\n",
       "    <tr>\n",
       "      <th>0</th>\n",
       "      <td>11290-2020-4-0000066-1</td>\n",
       "      <td>1129010000000000000.0</td>\n",
       "      <td>11290</td>\n",
       "      <td>성북구</td>\n",
       "      <td>1129013800</td>\n",
       "      <td>장위동</td>\n",
       "      <td>2020</td>\n",
       "      <td>4</td>\n",
       "      <td>신고</td>\n",
       "      <td>1</td>\n",
       "      <td>0.0</td>\n",
       "      <td>59.92</td>\n",
       "      <td>2</td>\n",
       "      <td>5.0</td>\n",
       "      <td>2001</td>\n",
       "      <td>아파트</td>\n",
       "      <td>749000000</td>\n",
       "      <td>0.0</td>\n",
       "      <td>래미안 장위포레카운티</td>\n",
       "    </tr>\n",
       "    <tr>\n",
       "      <th>1</th>\n",
       "      <td>11290-2020-4-0000628-1</td>\n",
       "      <td>1129010000000000000.0</td>\n",
       "      <td>11290</td>\n",
       "      <td>성북구</td>\n",
       "      <td>1129013400</td>\n",
       "      <td>길음동</td>\n",
       "      <td>2020</td>\n",
       "      <td>4</td>\n",
       "      <td>신고</td>\n",
       "      <td>1</td>\n",
       "      <td>0.0</td>\n",
       "      <td>84.77</td>\n",
       "      <td>2</td>\n",
       "      <td>18.0</td>\n",
       "      <td>2001</td>\n",
       "      <td>아파트</td>\n",
       "      <td>1200000000</td>\n",
       "      <td>0.0</td>\n",
       "      <td>롯데캐슬 클라시아</td>\n",
       "    </tr>\n",
       "    <tr>\n",
       "      <th>2</th>\n",
       "      <td>11530-2020-4-0014284-1</td>\n",
       "      <td>1153010000000000000.0</td>\n",
       "      <td>11530</td>\n",
       "      <td>구로구</td>\n",
       "      <td>1153010200</td>\n",
       "      <td>구로동</td>\n",
       "      <td>2020</td>\n",
       "      <td>4</td>\n",
       "      <td>신고</td>\n",
       "      <td>1</td>\n",
       "      <td>NaN</td>\n",
       "      <td>36.90</td>\n",
       "      <td>0</td>\n",
       "      <td>1.0</td>\n",
       "      <td>2001</td>\n",
       "      <td>아파트</td>\n",
       "      <td>105000000</td>\n",
       "      <td>1994.0</td>\n",
       "      <td>궁전아트빌라</td>\n",
       "    </tr>\n",
       "    <tr>\n",
       "      <th>3</th>\n",
       "      <td>11170-2020-4-0005040-1</td>\n",
       "      <td>1117010000000000000.0</td>\n",
       "      <td>11170</td>\n",
       "      <td>용산구</td>\n",
       "      <td>1117011500</td>\n",
       "      <td>산천동</td>\n",
       "      <td>2020</td>\n",
       "      <td>4</td>\n",
       "      <td>신고</td>\n",
       "      <td>1</td>\n",
       "      <td>NaN</td>\n",
       "      <td>59.55</td>\n",
       "      <td>0</td>\n",
       "      <td>2.0</td>\n",
       "      <td>2001</td>\n",
       "      <td>아파트</td>\n",
       "      <td>830000000</td>\n",
       "      <td>2001.0</td>\n",
       "      <td>리버힐삼성</td>\n",
       "    </tr>\n",
       "    <tr>\n",
       "      <th>4</th>\n",
       "      <td>11170-2020-4-0001553-1</td>\n",
       "      <td>1117010000000000000.0</td>\n",
       "      <td>11170</td>\n",
       "      <td>용산구</td>\n",
       "      <td>1117012900</td>\n",
       "      <td>이촌동</td>\n",
       "      <td>2020</td>\n",
       "      <td>4</td>\n",
       "      <td>신고</td>\n",
       "      <td>1</td>\n",
       "      <td>NaN</td>\n",
       "      <td>64.43</td>\n",
       "      <td>0</td>\n",
       "      <td>5.0</td>\n",
       "      <td>2001</td>\n",
       "      <td>아파트</td>\n",
       "      <td>735000000</td>\n",
       "      <td>1971.0</td>\n",
       "      <td>강변</td>\n",
       "    </tr>\n",
       "  </tbody>\n",
       "</table>\n",
       "</div>"
      ],
      "text/plain": [
       "                  실거래가아이디                   지번코드  시군구코드 자치구명       법정동코드 법정동명  \\\n",
       "0  11290-2020-4-0000066-1  1129010000000000000.0  11290  성북구  1129013800  장위동   \n",
       "1  11290-2020-4-0000628-1  1129010000000000000.0  11290  성북구  1129013400  길음동   \n",
       "2  11530-2020-4-0014284-1  1153010000000000000.0  11530  구로구  1153010200  구로동   \n",
       "3  11170-2020-4-0005040-1  1117010000000000000.0  11170  용산구  1117011500  산천동   \n",
       "4  11170-2020-4-0001553-1  1117010000000000000.0  11170  용산구  1117012900  이촌동   \n",
       "\n",
       "   신고년도  업무구분코드 업무구분  물건번호  대지권면적   건물면적 관리구분코드   층정보  건물주용도코드 건물주용도  \\\n",
       "0  2020       4   신고     1    0.0  59.92      2   5.0     2001   아파트   \n",
       "1  2020       4   신고     1    0.0  84.77      2  18.0     2001   아파트   \n",
       "2  2020       4   신고     1    NaN  36.90      0   1.0     2001   아파트   \n",
       "3  2020       4   신고     1    NaN  59.55      0   2.0     2001   아파트   \n",
       "4  2020       4   신고     1    NaN  64.43      0   5.0     2001   아파트   \n",
       "\n",
       "         물건금액    건축년도          건물명  \n",
       "0   749000000     0.0  래미안 장위포레카운티  \n",
       "1  1200000000     0.0   롯데캐슬 클라시아   \n",
       "2   105000000  1994.0       궁전아트빌라  \n",
       "3   830000000  2001.0        리버힐삼성  \n",
       "4   735000000  1971.0           강변  "
      ]
     },
     "execution_count": 4,
     "metadata": {},
     "output_type": "execute_result"
    }
   ],
   "source": [
    "import pandas as pd\n",
    "\n",
    "PROJECT_ROOT_DIR = \".\"\n",
    "#CHAPTER_ID = \"ml_project\"\n",
    "FILE_PATH = os.path.join(PROJECT_ROOT_DIR, \"datasets\")\n",
    "\n",
    "def load_data(file_path=FILE_PATH):   \n",
    "    csv_path = os.path.join(file_path, \"real_estate.csv\")\n",
    "    return pd.read_csv(csv_path, encoding='cp949')  # 한글깨짐 방지\n",
    "\n",
    "raw_df = load_data()\n",
    "raw_df.head()"
   ]
  },
  {
   "cell_type": "code",
   "execution_count": 5,
   "id": "23c7d937",
   "metadata": {},
   "outputs": [
    {
     "data": {
      "text/html": [
       "<div>\n",
       "<style scoped>\n",
       "    .dataframe tbody tr th:only-of-type {\n",
       "        vertical-align: middle;\n",
       "    }\n",
       "\n",
       "    .dataframe tbody tr th {\n",
       "        vertical-align: top;\n",
       "    }\n",
       "\n",
       "    .dataframe thead th {\n",
       "        text-align: right;\n",
       "    }\n",
       "</style>\n",
       "<table border=\"1\" class=\"dataframe\">\n",
       "  <thead>\n",
       "    <tr style=\"text-align: right;\">\n",
       "      <th></th>\n",
       "      <th>자치구명</th>\n",
       "      <th>대지권면적</th>\n",
       "      <th>건물면적</th>\n",
       "      <th>층정보</th>\n",
       "      <th>건물주용도</th>\n",
       "      <th>건축년도</th>\n",
       "      <th>물건금액</th>\n",
       "    </tr>\n",
       "  </thead>\n",
       "  <tbody>\n",
       "    <tr>\n",
       "      <th>0</th>\n",
       "      <td>성북구</td>\n",
       "      <td>0.0</td>\n",
       "      <td>59.92</td>\n",
       "      <td>5.0</td>\n",
       "      <td>아파트</td>\n",
       "      <td>0.0</td>\n",
       "      <td>749000000</td>\n",
       "    </tr>\n",
       "    <tr>\n",
       "      <th>1</th>\n",
       "      <td>성북구</td>\n",
       "      <td>0.0</td>\n",
       "      <td>84.77</td>\n",
       "      <td>18.0</td>\n",
       "      <td>아파트</td>\n",
       "      <td>0.0</td>\n",
       "      <td>1200000000</td>\n",
       "    </tr>\n",
       "    <tr>\n",
       "      <th>2</th>\n",
       "      <td>구로구</td>\n",
       "      <td>NaN</td>\n",
       "      <td>36.90</td>\n",
       "      <td>1.0</td>\n",
       "      <td>아파트</td>\n",
       "      <td>1994.0</td>\n",
       "      <td>105000000</td>\n",
       "    </tr>\n",
       "    <tr>\n",
       "      <th>3</th>\n",
       "      <td>용산구</td>\n",
       "      <td>NaN</td>\n",
       "      <td>59.55</td>\n",
       "      <td>2.0</td>\n",
       "      <td>아파트</td>\n",
       "      <td>2001.0</td>\n",
       "      <td>830000000</td>\n",
       "    </tr>\n",
       "    <tr>\n",
       "      <th>4</th>\n",
       "      <td>용산구</td>\n",
       "      <td>NaN</td>\n",
       "      <td>64.43</td>\n",
       "      <td>5.0</td>\n",
       "      <td>아파트</td>\n",
       "      <td>1971.0</td>\n",
       "      <td>735000000</td>\n",
       "    </tr>\n",
       "  </tbody>\n",
       "</table>\n",
       "</div>"
      ],
      "text/plain": [
       "  자치구명  대지권면적   건물면적   층정보 건물주용도    건축년도        물건금액\n",
       "0  성북구    0.0  59.92   5.0   아파트     0.0   749000000\n",
       "1  성북구    0.0  84.77  18.0   아파트     0.0  1200000000\n",
       "2  구로구    NaN  36.90   1.0   아파트  1994.0   105000000\n",
       "3  용산구    NaN  59.55   2.0   아파트  2001.0   830000000\n",
       "4  용산구    NaN  64.43   5.0   아파트  1971.0   735000000"
      ]
     },
     "execution_count": 5,
     "metadata": {},
     "output_type": "execute_result"
    }
   ],
   "source": [
    "df = raw_df[['자치구명','대지권면적','건물면적','층정보','건물주용도','건축년도','물건금액']]\n",
    "df.head()"
   ]
  },
  {
   "cell_type": "code",
   "execution_count": 6,
   "id": "50247af3",
   "metadata": {},
   "outputs": [
    {
     "data": {
      "text/html": [
       "<div>\n",
       "<style scoped>\n",
       "    .dataframe tbody tr th:only-of-type {\n",
       "        vertical-align: middle;\n",
       "    }\n",
       "\n",
       "    .dataframe tbody tr th {\n",
       "        vertical-align: top;\n",
       "    }\n",
       "\n",
       "    .dataframe thead th {\n",
       "        text-align: right;\n",
       "    }\n",
       "</style>\n",
       "<table border=\"1\" class=\"dataframe\">\n",
       "  <thead>\n",
       "    <tr style=\"text-align: right;\">\n",
       "      <th></th>\n",
       "      <th>자치구명</th>\n",
       "      <th>대지권면적</th>\n",
       "      <th>건물면적</th>\n",
       "      <th>층정보</th>\n",
       "      <th>건물주용도</th>\n",
       "      <th>건축년도</th>\n",
       "      <th>물건금액</th>\n",
       "    </tr>\n",
       "  </thead>\n",
       "  <tbody>\n",
       "    <tr>\n",
       "      <th>0</th>\n",
       "      <td>성북구</td>\n",
       "      <td>0.0</td>\n",
       "      <td>59.92</td>\n",
       "      <td>5.0</td>\n",
       "      <td>아파트</td>\n",
       "      <td>0.0</td>\n",
       "      <td>749000000</td>\n",
       "    </tr>\n",
       "    <tr>\n",
       "      <th>1</th>\n",
       "      <td>성북구</td>\n",
       "      <td>0.0</td>\n",
       "      <td>84.77</td>\n",
       "      <td>18.0</td>\n",
       "      <td>아파트</td>\n",
       "      <td>0.0</td>\n",
       "      <td>1200000000</td>\n",
       "    </tr>\n",
       "    <tr>\n",
       "      <th>2</th>\n",
       "      <td>구로구</td>\n",
       "      <td>NaN</td>\n",
       "      <td>36.90</td>\n",
       "      <td>1.0</td>\n",
       "      <td>아파트</td>\n",
       "      <td>1994.0</td>\n",
       "      <td>105000000</td>\n",
       "    </tr>\n",
       "    <tr>\n",
       "      <th>3</th>\n",
       "      <td>용산구</td>\n",
       "      <td>NaN</td>\n",
       "      <td>59.55</td>\n",
       "      <td>2.0</td>\n",
       "      <td>아파트</td>\n",
       "      <td>2001.0</td>\n",
       "      <td>830000000</td>\n",
       "    </tr>\n",
       "    <tr>\n",
       "      <th>4</th>\n",
       "      <td>용산구</td>\n",
       "      <td>NaN</td>\n",
       "      <td>64.43</td>\n",
       "      <td>5.0</td>\n",
       "      <td>아파트</td>\n",
       "      <td>1971.0</td>\n",
       "      <td>735000000</td>\n",
       "    </tr>\n",
       "  </tbody>\n",
       "</table>\n",
       "</div>"
      ],
      "text/plain": [
       "  자치구명  대지권면적   건물면적   층정보 건물주용도    건축년도        물건금액\n",
       "0  성북구    0.0  59.92   5.0   아파트     0.0   749000000\n",
       "1  성북구    0.0  84.77  18.0   아파트     0.0  1200000000\n",
       "2  구로구    NaN  36.90   1.0   아파트  1994.0   105000000\n",
       "3  용산구    NaN  59.55   2.0   아파트  2001.0   830000000\n",
       "4  용산구    NaN  64.43   5.0   아파트  1971.0   735000000"
      ]
     },
     "execution_count": 6,
     "metadata": {},
     "output_type": "execute_result"
    }
   ],
   "source": [
    "df = df.dropna(subset=[\"건축년도\"], axis=0)\n",
    "df.head()"
   ]
  },
  {
   "cell_type": "code",
   "execution_count": 7,
   "id": "e16a5824",
   "metadata": {},
   "outputs": [],
   "source": [
    "df = df[df['건축년도']!=0]"
   ]
  },
  {
   "cell_type": "code",
   "execution_count": 8,
   "id": "6345f517",
   "metadata": {},
   "outputs": [
    {
     "data": {
      "text/html": [
       "<div>\n",
       "<style scoped>\n",
       "    .dataframe tbody tr th:only-of-type {\n",
       "        vertical-align: middle;\n",
       "    }\n",
       "\n",
       "    .dataframe tbody tr th {\n",
       "        vertical-align: top;\n",
       "    }\n",
       "\n",
       "    .dataframe thead th {\n",
       "        text-align: right;\n",
       "    }\n",
       "</style>\n",
       "<table border=\"1\" class=\"dataframe\">\n",
       "  <thead>\n",
       "    <tr style=\"text-align: right;\">\n",
       "      <th></th>\n",
       "      <th>자치구명</th>\n",
       "      <th>대지권면적</th>\n",
       "      <th>건물면적</th>\n",
       "      <th>층정보</th>\n",
       "      <th>건물주용도</th>\n",
       "      <th>건축년도</th>\n",
       "      <th>물건금액</th>\n",
       "    </tr>\n",
       "  </thead>\n",
       "  <tbody>\n",
       "    <tr>\n",
       "      <th>2</th>\n",
       "      <td>구로구</td>\n",
       "      <td>NaN</td>\n",
       "      <td>36.90</td>\n",
       "      <td>1.0</td>\n",
       "      <td>아파트</td>\n",
       "      <td>1994.0</td>\n",
       "      <td>105000000</td>\n",
       "    </tr>\n",
       "    <tr>\n",
       "      <th>3</th>\n",
       "      <td>용산구</td>\n",
       "      <td>NaN</td>\n",
       "      <td>59.55</td>\n",
       "      <td>2.0</td>\n",
       "      <td>아파트</td>\n",
       "      <td>2001.0</td>\n",
       "      <td>830000000</td>\n",
       "    </tr>\n",
       "    <tr>\n",
       "      <th>4</th>\n",
       "      <td>용산구</td>\n",
       "      <td>NaN</td>\n",
       "      <td>64.43</td>\n",
       "      <td>5.0</td>\n",
       "      <td>아파트</td>\n",
       "      <td>1971.0</td>\n",
       "      <td>735000000</td>\n",
       "    </tr>\n",
       "    <tr>\n",
       "      <th>5</th>\n",
       "      <td>용산구</td>\n",
       "      <td>NaN</td>\n",
       "      <td>105.75</td>\n",
       "      <td>9.0</td>\n",
       "      <td>아파트</td>\n",
       "      <td>1982.0</td>\n",
       "      <td>1430000000</td>\n",
       "    </tr>\n",
       "    <tr>\n",
       "      <th>6</th>\n",
       "      <td>용산구</td>\n",
       "      <td>43.9</td>\n",
       "      <td>73.04</td>\n",
       "      <td>3.0</td>\n",
       "      <td>연립주택</td>\n",
       "      <td>1993.0</td>\n",
       "      <td>400000000</td>\n",
       "    </tr>\n",
       "  </tbody>\n",
       "</table>\n",
       "</div>"
      ],
      "text/plain": [
       "  자치구명  대지권면적    건물면적  층정보 건물주용도    건축년도        물건금액\n",
       "2  구로구    NaN   36.90  1.0   아파트  1994.0   105000000\n",
       "3  용산구    NaN   59.55  2.0   아파트  2001.0   830000000\n",
       "4  용산구    NaN   64.43  5.0   아파트  1971.0   735000000\n",
       "5  용산구    NaN  105.75  9.0   아파트  1982.0  1430000000\n",
       "6  용산구   43.9   73.04  3.0  연립주택  1993.0   400000000"
      ]
     },
     "execution_count": 8,
     "metadata": {},
     "output_type": "execute_result"
    }
   ],
   "source": [
    "df.head()"
   ]
  },
  {
   "cell_type": "markdown",
   "id": "04a0b9fd",
   "metadata": {},
   "source": [
    "# 4. 데이터 떼어놓기"
   ]
  },
  {
   "cell_type": "code",
   "execution_count": 9,
   "id": "cb35b062",
   "metadata": {
    "scrolled": true
   },
   "outputs": [],
   "source": [
    "# # 8:2로 분리\n",
    "# from sklearn.model_selection import train_test_split\n",
    "# train_set, test_set = train_test_split(df, test_size= 0.2, random_state = 42)\n",
    "# test_set.head()"
   ]
  },
  {
   "cell_type": "code",
   "execution_count": 10,
   "id": "035652ec",
   "metadata": {},
   "outputs": [],
   "source": [
    "# train_set-> housing\n",
    "# test_set 그대로\n",
    "#housing_train = train_set.copy()"
   ]
  },
  {
   "cell_type": "code",
   "execution_count": 11,
   "id": "bed84ea8",
   "metadata": {},
   "outputs": [
    {
     "data": {
      "text/plain": [
       "<AxesSubplot:>"
      ]
     },
     "execution_count": 11,
     "metadata": {},
     "output_type": "execute_result"
    },
    {
     "name": "stderr",
     "output_type": "stream",
     "text": [
      "findfont: Font family ['NanumGothic'] not found. Falling back to DejaVu Sans.\n"
     ]
    },
    {
     "data": {
      "image/png": "[encoded data removed]",
      "text/plain": [
       "<Figure size 432x288 with 1 Axes>"
      ]
     },
     "metadata": {
      "needs_background": "light"
     },
     "output_type": "display_data"
    }
   ],
   "source": [
    "df[\"물건금액\"].hist()"
   ]
  },
  {
   "cell_type": "code",
   "execution_count": 12,
   "id": "d641e3c6",
   "metadata": {},
   "outputs": [
    {
     "data": {
      "text/plain": [
       "<AxesSubplot:>"
      ]
     },
     "execution_count": 12,
     "metadata": {},
     "output_type": "execute_result"
    },
    {
     "data": {
      "image/png": "[encoded data removed]",
      "text/plain": [
       "<Figure size 432x288 with 1 Axes>"
      ]
     },
     "metadata": {
      "needs_background": "light"
     },
     "output_type": "display_data"
    }
   ],
   "source": [
    "df[\"물건금액\"].hist(range=(0.0E10,0.25E10), bins=50)"
   ]
  },
  {
   "cell_type": "code",
   "execution_count": 13,
   "id": "b5d3752b",
   "metadata": {},
   "outputs": [
    {
     "data": {
      "text/plain": [
       "2    52463\n",
       "1    28471\n",
       "3    28416\n",
       "6    27362\n",
       "4    22155\n",
       "5    15417\n",
       "Name: 물건금액_카테고리, dtype: int64"
      ]
     },
     "execution_count": 13,
     "metadata": {},
     "output_type": "execute_result"
    }
   ],
   "source": [
    "df[\"물건금액_카테고리\"] = pd.cut(df[\"물건금액\"],   # 동일한 길이로 나누어 범주화함\n",
    "                              bins = [0.0E9, 0.2E9, 0.4E9, 0.6E9, 0.8E9, 1.0E9, np.inf],  # 0~1.5 사이면 1로 labeling, 1.5~3이면 2로 labeling\n",
    "                              labels = [1,2,3,4,5,6])\n",
    "df[\"물건금액_카테고리\"].value_counts()"
   ]
  },
  {
   "cell_type": "code",
   "execution_count": 14,
   "id": "26fb9e30",
   "metadata": {},
   "outputs": [
    {
     "data": {
      "text/plain": [
       "<AxesSubplot:>"
      ]
     },
     "execution_count": 14,
     "metadata": {},
     "output_type": "execute_result"
    },
    {
     "data": {
      "image/png": "[encoded data removed]",
      "text/plain": [
       "<Figure size 432x288 with 1 Axes>"
      ]
     },
     "metadata": {
      "needs_background": "light"
     },
     "output_type": "display_data"
    }
   ],
   "source": [
    "df[\"물건금액_카테고리\"].hist()"
   ]
  },
  {
   "cell_type": "code",
   "execution_count": 15,
   "id": "af185724",
   "metadata": {},
   "outputs": [
    {
     "name": "stdout",
     "output_type": "stream",
     "text": [
      "2    0.298701\n",
      "1    0.162343\n",
      "3    0.161884\n",
      "6    0.153959\n",
      "4    0.126159\n",
      "5    0.087214\n",
      "Name: 물건금액_카테고리, dtype: float64\n",
      "2    0.301020\n",
      "1    0.163360\n",
      "3    0.163044\n",
      "6    0.156997\n",
      "4    0.127120\n",
      "5    0.088459\n",
      "Name: 물건금액_카테고리, dtype: float64\n"
     ]
    }
   ],
   "source": [
    "from sklearn.model_selection import StratifiedShuffleSplit  # 데이터 내 층의 비율을 고려하여 층별로 구분하여 무작위로 train, test 분할\n",
    "split = StratifiedShuffleSplit(n_splits=10, test_size=0.2, random_state=42)     # n_splits: 분리할 데이터 셋의 계층 개수  # 클래스 형태\n",
    "\n",
    "for train_index, test_index in split.split(df, df[\"물건금액_카테고리\"]):  \n",
    "    train_set = df.reindex(index = train_index)  # loc[train_index]\n",
    "    test_set = df.reindex(index = test_index) # loc[test_index]\n",
    "\n",
    "print(train_set[\"물건금액_카테고리\"].value_counts()/len(train_set))\n",
    "print(df[\"물건금액_카테고리\"].value_counts() / len(df))"
   ]
  },
  {
   "cell_type": "code",
   "execution_count": 16,
   "id": "8c79a94e",
   "metadata": {},
   "outputs": [],
   "source": [
    "train_set_y = train_set[\"물건금액\"] #y값 떼놓음\n",
    "test_set_y = test_set[\"물건금액\"]"
   ]
  },
  {
   "cell_type": "code",
   "execution_count": 17,
   "id": "01f76e5f",
   "metadata": {},
   "outputs": [],
   "source": [
    "# income_cat 컬럼 지우기\n",
    "for set_ in (train_set,test_set):\n",
    "    set_.drop([\"물건금액\",\"물건금액_카테고리\"], axis=1, inplace=True)"
   ]
  },
  {
   "cell_type": "code",
   "execution_count": 18,
   "id": "a85d07ca",
   "metadata": {},
   "outputs": [],
   "source": [
    "housing_train_X = train_set.copy()\n",
    "housing_train_y = train_set_y.copy()\n",
    "housing_test_X = test_set.copy()\n",
    "housing_test_y = test_set_y.copy()"
   ]
  },
  {
   "cell_type": "markdown",
   "id": "d0545555",
   "metadata": {},
   "source": [
    "-------"
   ]
  },
  {
   "cell_type": "markdown",
   "id": "c841d2b9",
   "metadata": {},
   "source": [
    "# 5. 데이터 이해하기\n"
   ]
  },
  {
   "cell_type": "markdown",
   "id": "352cf642",
   "metadata": {},
   "source": [
    "# 7. 데이터 준비하기"
   ]
  },
  {
   "cell_type": "code",
   "execution_count": 19,
   "id": "cf220f46",
   "metadata": {},
   "outputs": [],
   "source": [
    "# 대지권 면적 null -> 아파트 = 0\n",
    "housing_train_X['대지권면적'] = housing_train_X['대지권면적'].fillna(0)\n",
    "\n",
    "# 층정보 null -> 단독주택 = 1\n",
    "housing_train_X['층정보'] = housing_train_X['층정보'].fillna(1)\n",
    "\n",
    "# 건축년도 -> 연식으로 계산\n",
    "housing_train_X['연식'] = 2021 - housing_train_X['건축년도']\n",
    "housing_train_X = housing_train_X.drop(\"건축년도\",axis=1)"
   ]
  },
  {
   "cell_type": "code",
   "execution_count": 20,
   "id": "de8030d9",
   "metadata": {},
   "outputs": [
    {
     "data": {
      "text/html": [
       "<div>\n",
       "<style scoped>\n",
       "    .dataframe tbody tr th:only-of-type {\n",
       "        vertical-align: middle;\n",
       "    }\n",
       "\n",
       "    .dataframe tbody tr th {\n",
       "        vertical-align: top;\n",
       "    }\n",
       "\n",
       "    .dataframe thead th {\n",
       "        text-align: right;\n",
       "    }\n",
       "</style>\n",
       "<table border=\"1\" class=\"dataframe\">\n",
       "  <thead>\n",
       "    <tr style=\"text-align: right;\">\n",
       "      <th></th>\n",
       "      <th>자치구명</th>\n",
       "      <th>대지권면적</th>\n",
       "      <th>건물면적</th>\n",
       "      <th>층정보</th>\n",
       "      <th>건물주용도</th>\n",
       "      <th>연식</th>\n",
       "    </tr>\n",
       "  </thead>\n",
       "  <tbody>\n",
       "    <tr>\n",
       "      <th>73809</th>\n",
       "      <td>성북구</td>\n",
       "      <td>21.06</td>\n",
       "      <td>40.08</td>\n",
       "      <td>5.0</td>\n",
       "      <td>연립주택</td>\n",
       "      <td>18.0</td>\n",
       "    </tr>\n",
       "    <tr>\n",
       "      <th>107945</th>\n",
       "      <td>은평구</td>\n",
       "      <td>0.00</td>\n",
       "      <td>12.44</td>\n",
       "      <td>4.0</td>\n",
       "      <td>아파트</td>\n",
       "      <td>7.0</td>\n",
       "    </tr>\n",
       "    <tr>\n",
       "      <th>31421</th>\n",
       "      <td>동대문구</td>\n",
       "      <td>55.25</td>\n",
       "      <td>53.76</td>\n",
       "      <td>3.0</td>\n",
       "      <td>연립주택</td>\n",
       "      <td>39.0</td>\n",
       "    </tr>\n",
       "    <tr>\n",
       "      <th>92236</th>\n",
       "      <td>도봉구</td>\n",
       "      <td>0.00</td>\n",
       "      <td>84.97</td>\n",
       "      <td>13.0</td>\n",
       "      <td>아파트</td>\n",
       "      <td>27.0</td>\n",
       "    </tr>\n",
       "    <tr>\n",
       "      <th>12982</th>\n",
       "      <td>영등포구</td>\n",
       "      <td>0.00</td>\n",
       "      <td>163.68</td>\n",
       "      <td>22.0</td>\n",
       "      <td>아파트</td>\n",
       "      <td>17.0</td>\n",
       "    </tr>\n",
       "  </tbody>\n",
       "</table>\n",
       "</div>"
      ],
      "text/plain": [
       "        자치구명  대지권면적    건물면적   층정보 건물주용도    연식\n",
       "73809    성북구  21.06   40.08   5.0  연립주택  18.0\n",
       "107945   은평구   0.00   12.44   4.0   아파트   7.0\n",
       "31421   동대문구  55.25   53.76   3.0  연립주택  39.0\n",
       "92236    도봉구   0.00   84.97  13.0   아파트  27.0\n",
       "12982   영등포구   0.00  163.68  22.0   아파트  17.0"
      ]
     },
     "execution_count": 20,
     "metadata": {},
     "output_type": "execute_result"
    }
   ],
   "source": [
    "housing_train_X.head()"
   ]
  },
  {
   "cell_type": "code",
   "execution_count": 21,
   "id": "c9b2df98",
   "metadata": {},
   "outputs": [],
   "source": [
    "# housing = train_set.drop(\"median_house_value\", axis=1)  # 훈련 세트를 위해 label 삭제\n",
    "# housing_labels = strat_train_set[\"median_house_value\"].copy()\n",
    "# housing_labels.head()\n",
    "\n",
    "# sample_incomplete_rows = housing[housing.isnull().any(axis=1)].head()  \n",
    "# sample_incomplete_rows"
   ]
  },
  {
   "cell_type": "code",
   "execution_count": 22,
   "id": "0859d292",
   "metadata": {},
   "outputs": [],
   "source": [
    "housing_num = housing_train_X.drop(['자치구명','건물주용도'],axis=1)"
   ]
  },
  {
   "cell_type": "code",
   "execution_count": 23,
   "id": "6aad65f4",
   "metadata": {},
   "outputs": [
    {
     "name": "stdout",
     "output_type": "stream",
     "text": [
      "<class 'pandas.core.frame.DataFrame'>\n",
      "Int64Index: 139427 entries, 73809 to 66114\n",
      "Data columns (total 4 columns):\n",
      " #   Column  Non-Null Count   Dtype  \n",
      "---  ------  --------------   -----  \n",
      " 0   대지권면적   139427 non-null  float64\n",
      " 1   건물면적    138069 non-null  float64\n",
      " 2   층정보     139427 non-null  float64\n",
      " 3   연식      138069 non-null  float64\n",
      "dtypes: float64(4)\n",
      "memory usage: 5.3 MB\n"
     ]
    }
   ],
   "source": [
    "housing_num.info()"
   ]
  },
  {
   "cell_type": "code",
   "execution_count": 24,
   "id": "05312015",
   "metadata": {},
   "outputs": [
    {
     "data": {
      "text/html": [
       "<div>\n",
       "<style scoped>\n",
       "    .dataframe tbody tr th:only-of-type {\n",
       "        vertical-align: middle;\n",
       "    }\n",
       "\n",
       "    .dataframe tbody tr th {\n",
       "        vertical-align: top;\n",
       "    }\n",
       "\n",
       "    .dataframe thead th {\n",
       "        text-align: right;\n",
       "    }\n",
       "</style>\n",
       "<table border=\"1\" class=\"dataframe\">\n",
       "  <thead>\n",
       "    <tr style=\"text-align: right;\">\n",
       "      <th></th>\n",
       "      <th>대지권면적</th>\n",
       "      <th>건물면적</th>\n",
       "      <th>층정보</th>\n",
       "      <th>연식</th>\n",
       "    </tr>\n",
       "  </thead>\n",
       "  <tbody>\n",
       "    <tr>\n",
       "      <th>73809</th>\n",
       "      <td>21.06</td>\n",
       "      <td>40.08</td>\n",
       "      <td>5.0</td>\n",
       "      <td>18.0</td>\n",
       "    </tr>\n",
       "    <tr>\n",
       "      <th>107945</th>\n",
       "      <td>0.00</td>\n",
       "      <td>12.44</td>\n",
       "      <td>4.0</td>\n",
       "      <td>7.0</td>\n",
       "    </tr>\n",
       "    <tr>\n",
       "      <th>31421</th>\n",
       "      <td>55.25</td>\n",
       "      <td>53.76</td>\n",
       "      <td>3.0</td>\n",
       "      <td>39.0</td>\n",
       "    </tr>\n",
       "    <tr>\n",
       "      <th>92236</th>\n",
       "      <td>0.00</td>\n",
       "      <td>84.97</td>\n",
       "      <td>13.0</td>\n",
       "      <td>27.0</td>\n",
       "    </tr>\n",
       "    <tr>\n",
       "      <th>12982</th>\n",
       "      <td>0.00</td>\n",
       "      <td>163.68</td>\n",
       "      <td>22.0</td>\n",
       "      <td>17.0</td>\n",
       "    </tr>\n",
       "  </tbody>\n",
       "</table>\n",
       "</div>"
      ],
      "text/plain": [
       "        대지권면적    건물면적   층정보    연식\n",
       "73809   21.06   40.08   5.0  18.0\n",
       "107945   0.00   12.44   4.0   7.0\n",
       "31421   55.25   53.76   3.0  39.0\n",
       "92236    0.00   84.97  13.0  27.0\n",
       "12982    0.00  163.68  22.0  17.0"
      ]
     },
     "execution_count": 24,
     "metadata": {},
     "output_type": "execute_result"
    }
   ],
   "source": [
    "housing_num.head()"
   ]
  },
  {
   "cell_type": "code",
   "execution_count": 25,
   "id": "0d1bc0d5",
   "metadata": {},
   "outputs": [
    {
     "data": {
      "text/plain": [
       "(139427, 4)"
      ]
     },
     "execution_count": 25,
     "metadata": {},
     "output_type": "execute_result"
    }
   ],
   "source": [
    "from sklearn.pipeline import Pipeline\n",
    "from sklearn.preprocessing import StandardScaler, OneHotEncoder\n",
    "\n",
    "num_pipeline = Pipeline([\n",
    "    ('std_scaler', StandardScaler()),  # 수치형\n",
    "])\n",
    "housing_num_tr = num_pipeline.fit_transform(housing_num)  # fit 한 후 transform (위의 pipeline 작업 적용)\n",
    "housing_num_tr.shape"
   ]
  },
  {
   "cell_type": "code",
   "execution_count": 26,
   "id": "26e99a28",
   "metadata": {},
   "outputs": [
    {
     "data": {
      "text/plain": [
       "array([[-0.06542744, -0.46783778, -0.21277641, -0.12546622],\n",
       "       [-0.49763835, -0.87689766, -0.38884768, -1.03344496],\n",
       "       [ 0.63624828, -0.26537978, -0.56491895,  1.60794773],\n",
       "       ...,\n",
       "       [-0.49763835, -0.17391848, -0.74099022,  0.45233843],\n",
       "       [-0.49763835,  0.63443357, -0.74099022, -0.37309679],\n",
       "       [-0.49763835, -0.17303051,  1.5479363 ,  0.12216434]])"
      ]
     },
     "execution_count": 26,
     "metadata": {},
     "output_type": "execute_result"
    }
   ],
   "source": [
    "housing_num_tr"
   ]
  },
  {
   "cell_type": "code",
   "execution_count": 27,
   "id": "d509dcdc",
   "metadata": {},
   "outputs": [],
   "source": [
    "# #oneHotEncoder => 자치구, 건물주용도\n",
    "\n",
    "# from sklearn.preprocessing import OneHotEncoder\n",
    "# cat_encoder = OneHotEncoder()\n",
    "\n",
    "# housing_cat1 = housing[[\"자치구명\"]]\n",
    "# housing_cat_1hot = cat_encoder.fit_transform(housing_cat1)\n",
    "# # housing_cat_1hot.toarray()\n",
    "\n",
    "# housing_cat2 = housing[[\"건물주용도\"]]\n",
    "# housing_cat_2hot = cat_encoder.fit_transform(housing_cat2)\n",
    "# # housing_cat_2hot.toarray()"
   ]
  },
  {
   "cell_type": "code",
   "execution_count": 28,
   "id": "a47c3cb4",
   "metadata": {},
   "outputs": [
    {
     "data": {
      "text/plain": [
       "array(['성북구', '은평구', '동대문구', ..., '강동구', '성북구', '용산구'], dtype=object)"
      ]
     },
     "execution_count": 28,
     "metadata": {},
     "output_type": "execute_result"
    }
   ],
   "source": [
    "housing_train_X['자치구명'].values"
   ]
  },
  {
   "cell_type": "code",
   "execution_count": 29,
   "id": "b84541c3",
   "metadata": {},
   "outputs": [
    {
     "name": "stdout",
     "output_type": "stream",
     "text": [
      "  (0, 0)\t-0.06542744418443326\n",
      "  (0, 1)\t-0.467837778960478\n",
      "  (0, 2)\t-0.212776410633023\n",
      "  (0, 3)\t-0.12546622460637866\n",
      "  (0, 6)\t1.0\n",
      "  (0, 25)\t1.0\n",
      "  (1, 0)\t-0.4976383455418708\n",
      "  (1, 1)\t-0.8768976628755023\n",
      "  (1, 2)\t-0.3888476812812428\n",
      "  (1, 3)\t-1.0334449624471769\n",
      "  (1, 5)\t1.0\n",
      "  (1, 30)\t1.0\n",
      "  (2, 0)\t0.6362482783896783\n",
      "  (2, 1)\t-0.26537977563350507\n",
      "  (2, 2)\t-0.5649189519294626\n",
      "  (2, 3)\t1.607947729453327\n",
      "  (2, 6)\t1.0\n",
      "  (2, 19)\t1.0\n",
      "  (3, 0)\t-0.4976383455418708\n",
      "  (3, 1)\t0.19651454336026872\n",
      "  (3, 2)\t1.1957937545527355\n",
      "  (3, 3)\t0.6174254699906381\n",
      "  (3, 5)\t1.0\n",
      "  (3, 18)\t1.0\n",
      "  (4, 0)\t-0.4976383455418708\n",
      "  :\t:\n",
      "  (139422, 9)\t1.0\n",
      "  (139423, 0)\t-0.4976383455418708\n",
      "  (139423, 1)\t-0.17332650219097792\n",
      "  (139423, 2)\t1.724007566497395\n",
      "  (139423, 3)\t-1.5287060921785214\n",
      "  (139423, 5)\t1.0\n",
      "  (139423, 20)\t1.0\n",
      "  (139424, 0)\t-0.4976383455418708\n",
      "  (139424, 1)\t-0.17391848465684626\n",
      "  (139424, 2)\t-0.7409902225776824\n",
      "  (139424, 3)\t0.4523384267468566\n",
      "  (139424, 5)\t1.0\n",
      "  (139424, 10)\t1.0\n",
      "  (139425, 0)\t-0.4976383455418708\n",
      "  (139425, 1)\t0.6344335724863748\n",
      "  (139425, 2)\t-0.7409902225776824\n",
      "  (139425, 3)\t-0.37309678947205094\n",
      "  (139425, 5)\t1.0\n",
      "  (139425, 25)\t1.0\n",
      "  (139426, 0)\t-0.4976383455418708\n",
      "  (139426, 1)\t-0.17303051095804373\n",
      "  (139426, 2)\t1.5479362958491754\n",
      "  (139426, 3)\t0.12216434025929358\n",
      "  (139426, 5)\t1.0\n",
      "  (139426, 29)\t1.0\n"
     ]
    }
   ],
   "source": [
    "from sklearn.compose import ColumnTransformer  # 원래 만들어진 pipeline에 추가하기 위한 모듈\n",
    "\n",
    "num_attribs = list(housing_num)\n",
    "cat_attribs = ['건물주용도','자치구명']\n",
    "\n",
    "full_pipeline = ColumnTransformer([\n",
    "    (\"num\", num_pipeline, num_attribs),\n",
    "    (\"cat\", OneHotEncoder(), cat_attribs),\n",
    "])\n",
    "\n",
    "housing_prepared = full_pipeline.fit_transform(housing_train_X)\n",
    "print(housing_prepared)\n",
    "# print(housing_prepared.shape)"
   ]
  },
  {
   "cell_type": "code",
   "execution_count": 30,
   "id": "9b989a2c",
   "metadata": {},
   "outputs": [
    {
     "data": {
      "text/plain": [
       "(('major_use', OneHotEncoder(), ['건물주용도']),)"
      ]
     },
     "execution_count": 30,
     "metadata": {},
     "output_type": "execute_result"
    }
   ],
   "source": [
    "    (\"borough\", OneHotEncoder(), [\"자치구명\"]),\n",
    "    (\"major_use\", OneHotEncoder(), [\"건물주용도\"]),"
   ]
  },
  {
   "cell_type": "code",
   "execution_count": 31,
   "id": "797018c2",
   "metadata": {},
   "outputs": [
    {
     "ename": "NameError",
     "evalue": "name 'X_train' is not defined",
     "output_type": "error",
     "traceback": [
      "\u001b[1;31m---------------------------------------------------------------------------\u001b[0m",
      "\u001b[1;31mNameError\u001b[0m                                 Traceback (most recent call last)",
      "\u001b[1;32m<ipython-input-31-83c0a8a6297c>\u001b[0m in \u001b[0;36m<module>\u001b[1;34m\u001b[0m\n\u001b[0;32m      2\u001b[0m \u001b[1;32mfrom\u001b[0m \u001b[0msklearn\u001b[0m\u001b[1;33m.\u001b[0m\u001b[0mpreprocessing\u001b[0m \u001b[1;32mimport\u001b[0m \u001b[0mStandardScaler\u001b[0m\u001b[1;33m\u001b[0m\u001b[1;33m\u001b[0m\u001b[0m\n\u001b[0;32m      3\u001b[0m \u001b[0mscaler\u001b[0m \u001b[1;33m=\u001b[0m \u001b[0mStandardScaler\u001b[0m\u001b[1;33m(\u001b[0m\u001b[1;33m)\u001b[0m\u001b[1;33m\u001b[0m\u001b[1;33m\u001b[0m\u001b[0m\n\u001b[1;32m----> 4\u001b[1;33m \u001b[0mX_scaled\u001b[0m \u001b[1;33m=\u001b[0m \u001b[0mscaler\u001b[0m\u001b[1;33m.\u001b[0m\u001b[0mfit\u001b[0m\u001b[1;33m(\u001b[0m\u001b[0mX_train\u001b[0m\u001b[1;33m)\u001b[0m\u001b[1;33m.\u001b[0m\u001b[0mtransform\u001b[0m\u001b[1;33m(\u001b[0m\u001b[0mX_train\u001b[0m\u001b[1;33m)\u001b[0m\u001b[1;33m\u001b[0m\u001b[1;33m\u001b[0m\u001b[0m\n\u001b[0m\u001b[0;32m      5\u001b[0m \u001b[1;33m\u001b[0m\u001b[0m\n\u001b[0;32m      6\u001b[0m \u001b[0mX_scaled_d\u001b[0m \u001b[1;33m=\u001b[0m \u001b[0mscaler\u001b[0m\u001b[1;33m.\u001b[0m\u001b[0mfit_transform\u001b[0m\u001b[1;33m(\u001b[0m\u001b[0mX_train\u001b[0m\u001b[1;33m)\u001b[0m\u001b[1;33m\u001b[0m\u001b[1;33m\u001b[0m\u001b[0m\n",
      "\u001b[1;31mNameError\u001b[0m: name 'X_train' is not defined"
     ]
    }
   ],
   "source": [
    "# standard scaler\n",
    "from sklearn.preprocessing import StandardScaler\n",
    "scaler = StandardScaler() \n",
    "X_scaled = scaler.fit(X_train).transform(X_train)\n",
    "\n",
    "X_scaled_d = scaler.fit_transform(X_train)"
   ]
  },
  {
   "cell_type": "code",
   "execution_count": null,
   "id": "a94ae075",
   "metadata": {},
   "outputs": [],
   "source": []
  },
  {
   "cell_type": "code",
   "execution_count": null,
   "id": "f3aa3f4b",
   "metadata": {},
   "outputs": [],
   "source": []
  }
 ],
 "metadata": {
  "kernelspec": {
   "display_name": "Python 3",
   "language": "python",
   "name": "python3"
  },
  "language_info": {
   "codemirror_mode": {
    "name": "ipython",
    "version": 3
   },
   "file_extension": ".py",
   "mimetype": "text/x-python",
   "name": "python",
   "nbconvert_exporter": "python",
   "pygments_lexer": "ipython3",
   "version": "3.7.10"
  }
 },
 "nbformat": 4,
 "nbformat_minor": 5
}
