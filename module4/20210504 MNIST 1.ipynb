{
 "cells": [
  {
   "cell_type": "markdown",
   "id": "9b458fb2",
   "metadata": {},
   "source": [
    "MNIST"
   ]
  },
  {
   "cell_type": "code",
   "execution_count": 24,
   "id": "16347fc1",
   "metadata": {},
   "outputs": [],
   "source": [
    "# 밑바닥부터 시작하는 딥러닝(p99)\n",
    "# from sklearn.datasets import fetch_openml\n",
    "# mnist = fetch_openml('mnist_784',version=1)\n",
    "import sys, os\n",
    "sys.path.append(os.pardir) #부모 디렉토리 파일 가져올수있도록 설정\n",
    "import numpy as np\n",
    "import pickle\n",
    "from mnist_dataset.mnist import load_mnist\n",
    "import matplotlib.pylab as plt"
   ]
  },
  {
   "cell_type": "code",
   "execution_count": 25,
   "id": "cd8a70f3",
   "metadata": {},
   "outputs": [],
   "source": [
    "(train_image_data,train_label_data),(test_image_data,test_label_data) = load_mnist(flatten= True, normalize = False)"
   ]
  },
  {
   "cell_type": "code",
   "execution_count": 26,
   "id": "0b92432a",
   "metadata": {},
   "outputs": [
    {
     "name": "stdout",
     "output_type": "stream",
     "text": [
      "(60000, 784)\n",
      "(60000,)\n",
      "(10000, 784)\n",
      "(10000,)\n"
     ]
    }
   ],
   "source": [
    "print(train_image_data.shape)\n",
    "print(train_label_data.shape)\n",
    "print(test_image_data.shape)\n",
    "print(test_label_data.shape)"
   ]
  },
  {
   "cell_type": "code",
   "execution_count": 27,
   "id": "8f1b3ac4",
   "metadata": {},
   "outputs": [
    {
     "data": {
      "text/plain": [
       "(784,)"
      ]
     },
     "execution_count": 27,
     "metadata": {},
     "output_type": "execute_result"
    }
   ],
   "source": [
    "image = train_image_data[0]\n",
    "image.shape"
   ]
  },
  {
   "cell_type": "code",
   "execution_count": 28,
   "id": "d30538b8",
   "metadata": {},
   "outputs": [
    {
     "data": {
      "text/plain": [
       "(28, 28)"
      ]
     },
     "execution_count": 28,
     "metadata": {},
     "output_type": "execute_result"
    }
   ],
   "source": [
    "image_reshaped = image.reshape(28,28)\n",
    "image_reshaped.shape"
   ]
  },
  {
   "cell_type": "code",
   "execution_count": 29,
   "id": "a33a3dab",
   "metadata": {},
   "outputs": [
    {
     "data": {
      "text/plain": [
       "<function matplotlib.pyplot.show(close=None, block=None)>"
      ]
     },
     "execution_count": 29,
     "metadata": {},
     "output_type": "execute_result"
    },
    {
     "data": {
      "image/png": "[encoded data removed]",
      "text/plain": [
       "<Figure size 288x288 with 1 Axes>"
      ]
     },
     "metadata": {
      "needs_background": "light"
     },
     "output_type": "display_data"
    }
   ],
   "source": [
    "label = train_label_data[0]\n",
    "plt.figure(figsize=(4,4))\n",
    "plt.title(\"sample of \"+str(label))\n",
    "plt.imshow(image_reshaped,cmap=\"gray\")\n",
    "plt.show"
   ]
  },
  {
   "cell_type": "markdown",
   "id": "29fcdae8",
   "metadata": {},
   "source": [
    "신경망 구현\n",
    "\n",
    "입력층 뉴런: 784(28x28) 출력층 뉴런 10개 w? 0-9까지 숫자구분 문제"
   ]
  },
  {
   "cell_type": "code",
   "execution_count": 38,
   "id": "1ff7d614",
   "metadata": {},
   "outputs": [],
   "source": [
    "def get_data():\n",
    "    (image_train,label_train),(image_test,label_test) = load_mnist(flatten =True,normalize = True,one_hot_label=False)\n",
    "    return image_test, label_test"
   ]
  },
  {
   "cell_type": "code",
   "execution_count": 39,
   "id": "c0d8630e",
   "metadata": {},
   "outputs": [],
   "source": [
    "def init_network():\n",
    "    with open(\"sample_weight.pkl\",'rb') as f:\n",
    "        network = pickle.load(f)\n",
    "    return network"
   ]
  },
  {
   "cell_type": "code",
   "execution_count": 40,
   "id": "6676c915",
   "metadata": {},
   "outputs": [],
   "source": [
    "#시그모이드/ 렐루/소프트맥스 구현 함수 \n",
    "def sigmoid(x):\n",
    "    return 1 / (1 + np.exp(-x))\n",
    "\n",
    "def relu(x):\n",
    "    return np.maximum(0,x)\n",
    "\n",
    "def softmax(matrix):\n",
    "    maximum_of_matrix = np.max(matrix)\n",
    "    difference_from_maximum = matrix - maximum_of_matrix\n",
    "    exponential_of_difference = np.exp(difference_from_maximum)\n",
    "    sum_of_exponential = np.sum(exponential_of_difference)\n",
    "    y = exponential_of_difference / sum_of_exponential\n",
    "    \n",
    "    return y"
   ]
  },
  {
   "cell_type": "code",
   "execution_count": 43,
   "id": "4b775aeb",
   "metadata": {},
   "outputs": [],
   "source": [
    "def predict(network,x):\n",
    "    W1,W2,W3 = network['W1'],network['W2'],network['W3']\n",
    "    b1,b2,b3 = network['b1'],network['b2'],network['b3']\n",
    "    \n",
    "    a1 = np.dot(x, W1)+b1\n",
    "    z1 = sigmoid(a1)\n",
    "    a2 = np.dot(z1, W2)+b2\n",
    "    z2 = sigmoid(a2)\n",
    "    a3 = np.dot(z2, W3)+b3\n",
    "    y = softmax(a3)\n",
    "    \n",
    "    return y"
   ]
  },
  {
   "cell_type": "code",
   "execution_count": 44,
   "id": "a9e6ddb6",
   "metadata": {},
   "outputs": [
    {
     "name": "stdout",
     "output_type": "stream",
     "text": [
      "[4.2882911e-04 2.0043037e-06 2.5405686e-03 2.0168918e-06 5.5917754e-04\n",
      " 3.1262074e-04 9.9614763e-01 4.3499412e-07 6.3756934e-06 3.7751448e-07]\n"
     ]
    }
   ],
   "source": [
    "print(y) # 10개가 들어잇을 꺼고 여기서 제일 큰 수가 뭔지를 np.argmax 로 가져옴"
   ]
  },
  {
   "cell_type": "code",
   "execution_count": 42,
   "id": "a8135ebc",
   "metadata": {},
   "outputs": [
    {
     "name": "stdout",
     "output_type": "stream",
     "text": [
      "Accuracy:0.9352\n"
     ]
    }
   ],
   "source": [
    "images, labels = get_data()\n",
    "network = init_network()\n",
    "\n",
    "accuracy_cnt =0\n",
    "for i in range(len(images)):\n",
    "    y = predict(network, images[i])\n",
    "    p = np.argmax(y) #확률이 가장 높은 원소의 인덱스를 얻음\n",
    "    if p==labels[i]:\n",
    "        accuracy_cnt +=1\n",
    "\n",
    "print(\"Accuracy:\"+str(float(accuracy_cnt)/len(images)))"
   ]
  },
  {
   "cell_type": "code",
   "execution_count": 45,
   "id": "decdbe06",
   "metadata": {},
   "outputs": [],
   "source": [
    "images, labels = get_data()\n",
    "network = init_network()"
   ]
  },
  {
   "cell_type": "code",
   "execution_count": 46,
   "id": "dcf65f0a",
   "metadata": {},
   "outputs": [
    {
     "name": "stdout",
     "output_type": "stream",
     "text": [
      "shpae of images = (10000, 784)\n",
      "shape of weight1 = (784, 50)\n",
      "shape of weight2 = (50, 100)\n",
      "shape of weight3 = (100, 10)\n"
     ]
    }
   ],
   "source": [
    "print(\"shpae of images =\", images.shape)\n",
    "print(\"shape of weight1 =\", network[\"W1\"].shape)\n",
    "print(\"shape of weight2 =\", network[\"W2\"].shape)\n",
    "print(\"shape of weight3 =\", network[\"W3\"].shape)"
   ]
  },
  {
   "cell_type": "markdown",
   "id": "88b4395a",
   "metadata": {},
   "source": [
    "신경망의 손글씨 숫자추론: 배치처리\n",
    "\n",
    "배치란? 100개로 묶는것 계산을 image 하나씩 하는거나 차원을 늘려서 계산에 넣는것은 동일하다."
   ]
  },
  {
   "cell_type": "code",
   "execution_count": 47,
   "id": "3d0e272f",
   "metadata": {},
   "outputs": [],
   "source": [
    "images, labels = get_data()\n",
    "network = init_network()"
   ]
  },
  {
   "cell_type": "code",
   "execution_count": 48,
   "id": "d719a951",
   "metadata": {},
   "outputs": [
    {
     "name": "stdout",
     "output_type": "stream",
     "text": [
      "shpae of images = (10000, 784)\n",
      "shape of weight1 = (784, 50)\n",
      "shape of weight2 = (50, 100)\n",
      "shape of weight3 = (100, 10)\n"
     ]
    }
   ],
   "source": [
    "#가중치 형상 출력\n",
    "print(\"shpae of images =\", images.shape)\n",
    "print(\"shape of weight1 =\", network[\"W1\"].shape)\n",
    "print(\"shape of weight2 =\", network[\"W2\"].shape)\n",
    "print(\"shape of weight3 =\", network[\"W3\"].shape)"
   ]
  },
  {
   "cell_type": "code",
   "execution_count": 50,
   "id": "0d694b05",
   "metadata": {},
   "outputs": [
    {
     "name": "stdout",
     "output_type": "stream",
     "text": [
      "Accuracy:0.9352\n"
     ]
    }
   ],
   "source": [
    "batch_size =100\n",
    "accuracy_cnt =0\n",
    "\n",
    "for i in range(0,len(images),batch_size):\n",
    "    x_batch = images[i:i+batch_size] #차원이 하나 더 늘어나 있다.\n",
    "    y_batch = predict(network,x_batch)\n",
    "    p = np.argmax(y_batch, axis=1)\n",
    "    accuracy_cnt += np.sum(p==labels[i:i+batch_size])\n",
    "    \n",
    "print(\"Accuracy:\"+str(float(accuracy_cnt)/len(images)))"
   ]
  },
  {
   "cell_type": "code",
   "execution_count": 51,
   "id": "52ebe904",
   "metadata": {},
   "outputs": [
    {
     "name": "stdout",
     "output_type": "stream",
     "text": [
      "[8 9 0 1 2 9 4 5 6 7 8 0 1 2 3 4 7 8 9 7 8 6 4 1 9 2 8 4 4 7 0 1 9 2 8 7 8\n",
      " 2 6 0 0 6 3 5 9 9 1 4 0 6 1 0 0 6 2 1 1 7 7 8 4 6 0 7 0 3 6 8 7 1 3 2 4 9\n",
      " 4 3 6 4 1 7 2 6 2 0 1 2 8 4 5 6 7 8 9 0 1 2 3 4 5 6]\n"
     ]
    }
   ],
   "source": [
    "print(p) #열에서 가장 높은 값들이 나온 것"
   ]
  },
  {
   "cell_type": "code",
   "execution_count": null,
   "id": "0d003064",
   "metadata": {},
   "outputs": [],
   "source": []
  }
 ],
 "metadata": {
  "kernelspec": {
   "display_name": "Python 3",
   "language": "python",
   "name": "python3"
  },
  "language_info": {
   "codemirror_mode": {
    "name": "ipython",
    "version": 3
   },
   "file_extension": ".py",
   "mimetype": "text/x-python",
   "name": "python",
   "nbconvert_exporter": "python",
   "pygments_lexer": "ipython3",
   "version": "3.7.10"
  }
 },
 "nbformat": 4,
 "nbformat_minor": 5
}
