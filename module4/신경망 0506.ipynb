{
 "cells": [
  {
   "cell_type": "markdown",
   "id": "5ab7c767",
   "metadata": {},
   "source": [
    "### 손실함수 \n",
    "#### 어느정도 차이 나는지를 계산해주는 것 , 평균제곱 오차를 줄여주는 게 목적 "
   ]
  },
  {
   "cell_type": "code",
   "execution_count": 1,
   "id": "16ca1621",
   "metadata": {},
   "outputs": [],
   "source": [
    "import numpy as np"
   ]
  },
  {
   "cell_type": "code",
   "execution_count": 3,
   "id": "8c1606ed",
   "metadata": {},
   "outputs": [],
   "source": [
    "y = [0.1, 0.05,0.6,0.0,0.05,0.1,0.0,0.1,0.0,0.0]\n",
    "true =[0,0,1,0,0,0,0,0,0,0] #레이블이라 가정 "
   ]
  },
  {
   "cell_type": "code",
   "execution_count": 6,
   "id": "8117666a",
   "metadata": {},
   "outputs": [],
   "source": [
    "def mean_squared_error(y,t):\n",
    "    return 0.5 *np.sum((y-t)**2)"
   ]
  },
  {
   "cell_type": "code",
   "execution_count": 7,
   "id": "f43e8a02",
   "metadata": {},
   "outputs": [
    {
     "data": {
      "text/plain": [
       "0.09750000000000003"
      ]
     },
     "execution_count": 7,
     "metadata": {},
     "output_type": "execute_result"
    }
   ],
   "source": [
    "mean_squared_error(np.array(y),np.array(true))"
   ]
  },
  {
   "cell_type": "code",
   "execution_count": 8,
   "id": "1ed64401",
   "metadata": {},
   "outputs": [
    {
     "data": {
      "text/plain": [
       "0.5975"
      ]
     },
     "execution_count": 8,
     "metadata": {},
     "output_type": "execute_result"
    }
   ],
   "source": [
    "y=[0.1,0.05,0.1,0.0,0.05,0.1,0.0,0.6,0.0,0.0]\n",
    "mean_squared_error(np.array(y),np.array(true))"
   ]
  },
  {
   "cell_type": "code",
   "execution_count": 9,
   "id": "b673a5c4",
   "metadata": {},
   "outputs": [],
   "source": [
    "# 손실함수: 교차 엔트로피 오차 (CEE) Code\n",
    "\n",
    "def cross_entropy_error(y,t):\n",
    "    delta = 1e-7\n",
    "    return -np.sum(t*np.log(y+delta)) #y가 0이 들어올때 마이너스 무한대가 발생하지 않도록 작은값 delta 더해줌"
   ]
  },
  {
   "cell_type": "code",
   "execution_count": 10,
   "id": "da06be64",
   "metadata": {},
   "outputs": [
    {
     "data": {
      "text/plain": [
       "0.510825457099338"
      ]
     },
     "execution_count": 10,
     "metadata": {},
     "output_type": "execute_result"
    }
   ],
   "source": [
    "t = [0,0,1,0,0,0,0,0,0,0]\n",
    "y = [0.1,0.05,0.6,0.0,0.05,.1,0.0,0.1,0.0,0.0]\n",
    "cross_entropy_error(np.array(y),np.array(t))  #1에 가까울수록 error값이 작음"
   ]
  },
  {
   "cell_type": "code",
   "execution_count": 11,
   "id": "f06205bd",
   "metadata": {},
   "outputs": [
    {
     "data": {
      "text/plain": [
       "2.302584092994546"
      ]
     },
     "execution_count": 11,
     "metadata": {},
     "output_type": "execute_result"
    }
   ],
   "source": [
    "y=[0.1,0.05,0.1,0.0,0.05,0.1,0.0,0.6,0.0,0.0]\n",
    "cross_entropy_error(np.array(y),np.array(t)) #1에 멀어져서 error값이 높아짐 "
   ]
  },
  {
   "cell_type": "code",
   "execution_count": 14,
   "id": "9dc16e96",
   "metadata": {},
   "outputs": [],
   "source": [
    "#손실함수: 미니배치 학습 code\n",
    "\n",
    "import sys, os\n",
    "sys.path.append(\"./dataset\")\n",
    "import numpy as np\n",
    "import pickle\n",
    "from mnist_dataset.mnist import load_mnist\n",
    "import matplotlib.pylab as plt\n"
   ]
  },
  {
   "cell_type": "code",
   "execution_count": 16,
   "id": "8d68f1d3",
   "metadata": {},
   "outputs": [
    {
     "name": "stdout",
     "output_type": "stream",
     "text": [
      "(60000, 784)\n",
      "(60000, 10)\n"
     ]
    }
   ],
   "source": [
    "(x_train, t_train),(x_test,t_test) = load_mnist(normalize = True, one_hot_label = True)\n",
    "print(x_train.shape)\n",
    "print(t_train.shape)"
   ]
  },
  {
   "cell_type": "code",
   "execution_count": 17,
   "id": "4a3ed619",
   "metadata": {},
   "outputs": [],
   "source": [
    "train_size = x_train.shape[0]\n",
    "batch_size = 10\n",
    "batch_mask = np.random.choice(train_size, batch_size)\n",
    "x_batch = x_train[batch_mask]\n",
    "t_batch = t_train[batch_mask]"
   ]
  },
  {
   "cell_type": "code",
   "execution_count": 19,
   "id": "90f102c6",
   "metadata": {},
   "outputs": [
    {
     "data": {
      "text/plain": [
       "array([25604, 22695, 25072, 29155, 51169, 50011, 32603, 40090, 59194,\n",
       "        9509])"
      ]
     },
     "execution_count": 19,
     "metadata": {},
     "output_type": "execute_result"
    }
   ],
   "source": [
    "np.random.choice(60000,10) #열개씩 무작위로 뽑혀나옴 "
   ]
  },
  {
   "cell_type": "markdown",
   "id": "f037f26b",
   "metadata": {},
   "source": [
    "### one-hot encoding 용"
   ]
  },
  {
   "cell_type": "code",
   "execution_count": 20,
   "id": "6acdd652",
   "metadata": {},
   "outputs": [],
   "source": [
    "def cross_entropy_error_one_hot(y,t):\n",
    "    if y.ndim == 1:\n",
    "        t = t.reshape(1,t.size)\n",
    "        y = y.reshape(1,y.size)\n",
    "        \n",
    "    batch_size = y.shape[0]\n",
    "    return -np.sum(t*np.log(y))/ batch_size"
   ]
  },
  {
   "cell_type": "code",
   "execution_count": 21,
   "id": "bac2920b",
   "metadata": {},
   "outputs": [],
   "source": [
    "#label용\n",
    "\n",
    "def cross_entropy_error_label(y,t):\n",
    "    if y.ndim ==1:\n",
    "        t = t.reshape(1,t.size)\n",
    "        y = y.reshape(1,y.size)\n",
    "        \n",
    "    batch_size = y.shape[0]\n",
    "    return -np.sum(np.loh(y[np.arange(batch_size),t]))/batch_size"
   ]
  },
  {
   "cell_type": "markdown",
   "id": "b37273b7",
   "metadata": {},
   "source": [
    "###  Numerical differentiation"
   ]
  },
  {
   "cell_type": "code",
   "execution_count": 31,
   "id": "66709227",
   "metadata": {},
   "outputs": [],
   "source": [
    "def numerical_differential(f,x):\n",
    "    h = 1e-4\n",
    "    return (f(x+h)-f(x-h))/(2*h) # h=0.0001"
   ]
  },
  {
   "cell_type": "code",
   "execution_count": 32,
   "id": "6e87119e",
   "metadata": {},
   "outputs": [],
   "source": [
    "def function_1(x):\n",
    "    return 0.01*x**2 +0.1*x"
   ]
  },
  {
   "cell_type": "code",
   "execution_count": 33,
   "id": "81160491",
   "metadata": {},
   "outputs": [
    {
     "data": {
      "image/png": "[encoded data removed]",
      "text/plain": [
       "<Figure size 1080x720 with 1 Axes>"
      ]
     },
     "metadata": {
      "needs_background": "light"
     },
     "output_type": "display_data"
    }
   ],
   "source": [
    "x = np.arange(0.0,20.0,0.1)\n",
    "y = function_1(x)\n",
    "plt.figure(figsize = (15,10))\n",
    "plt.xlabel(\"x\")\n",
    "plt.ylabel(\"f(x)\")\n",
    "plt.plot(x,y)\n",
    "plt.show()"
   ]
  },
  {
   "cell_type": "code",
   "execution_count": 34,
   "id": "d00d2c40",
   "metadata": {},
   "outputs": [
    {
     "data": {
      "text/plain": [
       "0.1999999999990898"
      ]
     },
     "execution_count": 34,
     "metadata": {},
     "output_type": "execute_result"
    }
   ],
   "source": [
    "numerical_differential(function_1,5)"
   ]
  },
  {
   "cell_type": "code",
   "execution_count": 35,
   "id": "fb4aa2c9",
   "metadata": {},
   "outputs": [
    {
     "data": {
      "text/plain": [
       "0.2999999999986347"
      ]
     },
     "execution_count": 35,
     "metadata": {},
     "output_type": "execute_result"
    }
   ],
   "source": [
    "numerical_differential(function_1,10)"
   ]
  },
  {
   "cell_type": "code",
   "execution_count": 41,
   "id": "292a99b9",
   "metadata": {},
   "outputs": [],
   "source": [
    "def function_2(x):\n",
    "    return x[0]**2 +x[1]**2"
   ]
  },
  {
   "cell_type": "code",
   "execution_count": 54,
   "id": "ac047c2e",
   "metadata": {},
   "outputs": [],
   "source": [
    "#feature 가 여러개일 때 -> 편미분 사용 (변수별로 따로따로 구함)\n",
    "# 편미분을 동시에 계산하고 싶을 때 gradient 사용 \n",
    "\n",
    "def numerical_gradient(f,x):\n",
    "    h = 1e-4 #0.0001\n",
    "    grad= np.zeros_like(x) #x와 형상이 같은 배열을 생성 (0.0)이 들어간 배열 생성\n",
    "    for idx in range(x.size):\n",
    "        tmp_val = x[idx]\n",
    "        x[idx] = tmp_val+h\n",
    "        fxh1 = f(x)\n",
    "        #f(x+h) 계산\n",
    "        \n",
    "        #f(x-h) 계산\n",
    "        x[idx] =tmp_val -h\n",
    "        fxh2 = f(x)\n",
    "        \n",
    "        grad[idx] =(fxh1-fxh2)/(2*h)\n",
    "        x[idx] = tmp_val \n",
    "        \n",
    "    return grad"
   ]
  },
  {
   "cell_type": "code",
   "execution_count": 55,
   "id": "0a5ba85c",
   "metadata": {},
   "outputs": [
    {
     "data": {
      "text/plain": [
       "array([6., 8.])"
      ]
     },
     "execution_count": 55,
     "metadata": {},
     "output_type": "execute_result"
    }
   ],
   "source": [
    "numerical_gradient(function_2,np.array([3.0,4.0]))"
   ]
  },
  {
   "cell_type": "code",
   "execution_count": 56,
   "id": "474ef625",
   "metadata": {},
   "outputs": [
    {
     "data": {
      "text/plain": [
       "array([0., 4.])"
      ]
     },
     "execution_count": 56,
     "metadata": {},
     "output_type": "execute_result"
    }
   ],
   "source": [
    "numerical_gradient(function_2,np.array([0.0,2.0]))"
   ]
  },
  {
   "cell_type": "code",
   "execution_count": 57,
   "id": "46a34a1b",
   "metadata": {},
   "outputs": [
    {
     "data": {
      "text/plain": [
       "array([6., 0.])"
      ]
     },
     "execution_count": 57,
     "metadata": {},
     "output_type": "execute_result"
    }
   ],
   "source": [
    "numerical_gradient(function_2,np.array([3.0,0.0]))"
   ]
  },
  {
   "cell_type": "markdown",
   "id": "6b23577b",
   "metadata": {},
   "source": [
    "### 경사하강법"
   ]
  },
  {
   "cell_type": "code",
   "execution_count": 58,
   "id": "c85338f1",
   "metadata": {},
   "outputs": [],
   "source": [
    "def gradient_descent(f, init_x, lr =0.01, step_num =100):\n",
    "    x = init_x\n",
    "    x_history = []\n",
    "    \n",
    "    for i in range(step_num):\n",
    "        x_history.append(x.copy())\n",
    "        grad = numerical_gradient(f,x)\n",
    "        x -= lr*grad\n",
    "    return x, np.array(x_history)"
   ]
  },
  {
   "cell_type": "code",
   "execution_count": 59,
   "id": "70151b52",
   "metadata": {},
   "outputs": [],
   "source": [
    "def function_2(x):\n",
    "    return x[0]**2 +x[1]**2"
   ]
  },
  {
   "cell_type": "code",
   "execution_count": 60,
   "id": "fb69b759",
   "metadata": {},
   "outputs": [
    {
     "data": {
      "text/plain": [
       "(array([-6.11110793e-10,  8.14814391e-10]),\n",
       " array([[-3.00000000e+00,  4.00000000e+00],\n",
       "        [-2.40000000e+00,  3.20000000e+00],\n",
       "        [-1.92000000e+00,  2.56000000e+00],\n",
       "        [-1.53600000e+00,  2.04800000e+00],\n",
       "        [-1.22880000e+00,  1.63840000e+00],\n",
       "        [-9.83040000e-01,  1.31072000e+00],\n",
       "        [-7.86432000e-01,  1.04857600e+00],\n",
       "        [-6.29145600e-01,  8.38860800e-01],\n",
       "        [-5.03316480e-01,  6.71088640e-01],\n",
       "        [-4.02653184e-01,  5.36870912e-01],\n",
       "        [-3.22122547e-01,  4.29496730e-01],\n",
       "        [-2.57698038e-01,  3.43597384e-01],\n",
       "        [-2.06158430e-01,  2.74877907e-01],\n",
       "        [-1.64926744e-01,  2.19902326e-01],\n",
       "        [-1.31941395e-01,  1.75921860e-01],\n",
       "        [-1.05553116e-01,  1.40737488e-01],\n",
       "        [-8.44424930e-02,  1.12589991e-01],\n",
       "        [-6.75539944e-02,  9.00719925e-02],\n",
       "        [-5.40431955e-02,  7.20575940e-02],\n",
       "        [-4.32345564e-02,  5.76460752e-02],\n",
       "        [-3.45876451e-02,  4.61168602e-02],\n",
       "        [-2.76701161e-02,  3.68934881e-02],\n",
       "        [-2.21360929e-02,  2.95147905e-02],\n",
       "        [-1.77088743e-02,  2.36118324e-02],\n",
       "        [-1.41670994e-02,  1.88894659e-02],\n",
       "        [-1.13336796e-02,  1.51115727e-02],\n",
       "        [-9.06694365e-03,  1.20892582e-02],\n",
       "        [-7.25355492e-03,  9.67140656e-03],\n",
       "        [-5.80284393e-03,  7.73712525e-03],\n",
       "        [-4.64227515e-03,  6.18970020e-03],\n",
       "        [-3.71382012e-03,  4.95176016e-03],\n",
       "        [-2.97105609e-03,  3.96140813e-03],\n",
       "        [-2.37684488e-03,  3.16912650e-03],\n",
       "        [-1.90147590e-03,  2.53530120e-03],\n",
       "        [-1.52118072e-03,  2.02824096e-03],\n",
       "        [-1.21694458e-03,  1.62259277e-03],\n",
       "        [-9.73555661e-04,  1.29807421e-03],\n",
       "        [-7.78844529e-04,  1.03845937e-03],\n",
       "        [-6.23075623e-04,  8.30767497e-04],\n",
       "        [-4.98460498e-04,  6.64613998e-04],\n",
       "        [-3.98768399e-04,  5.31691198e-04],\n",
       "        [-3.19014719e-04,  4.25352959e-04],\n",
       "        [-2.55211775e-04,  3.40282367e-04],\n",
       "        [-2.04169420e-04,  2.72225894e-04],\n",
       "        [-1.63335536e-04,  2.17780715e-04],\n",
       "        [-1.30668429e-04,  1.74224572e-04],\n",
       "        [-1.04534743e-04,  1.39379657e-04],\n",
       "        [-8.36277945e-05,  1.11503726e-04],\n",
       "        [-6.69022356e-05,  8.92029808e-05],\n",
       "        [-5.35217885e-05,  7.13623846e-05],\n",
       "        [-4.28174308e-05,  5.70899077e-05],\n",
       "        [-3.42539446e-05,  4.56719262e-05],\n",
       "        [-2.74031557e-05,  3.65375409e-05],\n",
       "        [-2.19225246e-05,  2.92300327e-05],\n",
       "        [-1.75380196e-05,  2.33840262e-05],\n",
       "        [-1.40304157e-05,  1.87072210e-05],\n",
       "        [-1.12243326e-05,  1.49657768e-05],\n",
       "        [-8.97946606e-06,  1.19726214e-05],\n",
       "        [-7.18357285e-06,  9.57809713e-06],\n",
       "        [-5.74685828e-06,  7.66247770e-06],\n",
       "        [-4.59748662e-06,  6.12998216e-06],\n",
       "        [-3.67798930e-06,  4.90398573e-06],\n",
       "        [-2.94239144e-06,  3.92318858e-06],\n",
       "        [-2.35391315e-06,  3.13855087e-06],\n",
       "        [-1.88313052e-06,  2.51084069e-06],\n",
       "        [-1.50650442e-06,  2.00867256e-06],\n",
       "        [-1.20520353e-06,  1.60693804e-06],\n",
       "        [-9.64162827e-07,  1.28555044e-06],\n",
       "        [-7.71330261e-07,  1.02844035e-06],\n",
       "        [-6.17064209e-07,  8.22752279e-07],\n",
       "        [-4.93651367e-07,  6.58201823e-07],\n",
       "        [-3.94921094e-07,  5.26561458e-07],\n",
       "        [-3.15936875e-07,  4.21249167e-07],\n",
       "        [-2.52749500e-07,  3.36999333e-07],\n",
       "        [-2.02199600e-07,  2.69599467e-07],\n",
       "        [-1.61759680e-07,  2.15679573e-07],\n",
       "        [-1.29407744e-07,  1.72543659e-07],\n",
       "        [-1.03526195e-07,  1.38034927e-07],\n",
       "        [-8.28209562e-08,  1.10427942e-07],\n",
       "        [-6.62567649e-08,  8.83423532e-08],\n",
       "        [-5.30054119e-08,  7.06738826e-08],\n",
       "        [-4.24043296e-08,  5.65391061e-08],\n",
       "        [-3.39234636e-08,  4.52312849e-08],\n",
       "        [-2.71387709e-08,  3.61850279e-08],\n",
       "        [-2.17110167e-08,  2.89480223e-08],\n",
       "        [-1.73688134e-08,  2.31584178e-08],\n",
       "        [-1.38950507e-08,  1.85267343e-08],\n",
       "        [-1.11160406e-08,  1.48213874e-08],\n",
       "        [-8.89283245e-09,  1.18571099e-08],\n",
       "        [-7.11426596e-09,  9.48568795e-09],\n",
       "        [-5.69141277e-09,  7.58855036e-09],\n",
       "        [-4.55313022e-09,  6.07084029e-09],\n",
       "        [-3.64250417e-09,  4.85667223e-09],\n",
       "        [-2.91400334e-09,  3.88533778e-09],\n",
       "        [-2.33120267e-09,  3.10827023e-09],\n",
       "        [-1.86496214e-09,  2.48661618e-09],\n",
       "        [-1.49196971e-09,  1.98929295e-09],\n",
       "        [-1.19357577e-09,  1.59143436e-09],\n",
       "        [-9.54860614e-10,  1.27314749e-09],\n",
       "        [-7.63888491e-10,  1.01851799e-09]]))"
      ]
     },
     "execution_count": 60,
     "metadata": {},
     "output_type": "execute_result"
    }
   ],
   "source": [
    "init_x = np.array([-3.0,4.0])\n",
    "gradient_descent(function_2, init_x = init_x, lr=0.1, step_num =100)"
   ]
  },
  {
   "cell_type": "markdown",
   "id": "52b98302",
   "metadata": {},
   "source": [
    "### 신경망 기울기   손실함수를 최소화하기 위한 w를 구하기 위해 진행함"
   ]
  },
  {
   "cell_type": "code",
   "execution_count": 86,
   "id": "0152e8e6",
   "metadata": {},
   "outputs": [],
   "source": [
    "import sys, os\n",
    "import numpy as np"
   ]
  },
  {
   "cell_type": "code",
   "execution_count": 87,
   "id": "85ec04ab",
   "metadata": {},
   "outputs": [],
   "source": [
    "class simpleNet:\n",
    "    def __init__(self):\n",
    "        self.W = np.random.randn(2,3) #정규분포 초기화\n",
    "        \n",
    "    def predict(self,x):\n",
    "        return np.dot(x,self.W)\n",
    "    \n",
    "    def loss(self,x,t):\n",
    "        z = self.predict(x)\n",
    "        y= softmax(z)\n",
    "        loss = cross_entropy_error(y,t)\n",
    "        \n",
    "        return loss\n",
    "    "
   ]
  },
  {
   "cell_type": "code",
   "execution_count": 88,
   "id": "ee3a0589",
   "metadata": {},
   "outputs": [],
   "source": [
    "def softmax(matrix):\n",
    "    maximum_of_matrix = np.max(matrix)\n",
    "    difference_from_maximum = matrix-maximum_of_matrix\n",
    "    exponential_of_difference = np.exp(difference_from_maximum)\n",
    "    sum_of_exponential = np.sum(exponential_of_difference)\n",
    "    y = exponential_of_difference / sum_of_exponential\n",
    "    return y\n",
    "\n",
    "def cross_entropy_error(y,t):\n",
    "    delta = 1e-7\n",
    "    return -np.sum(t*np.log(y+delta))\n",
    "\n",
    "def numerical_gradient(f,x): # 기울기 \n",
    "    h = 1e-4\n",
    "    grad = np.zeros_like(x)\n",
    "    \n",
    "    it = np.nditer(x, flags = ['multi_index'],op_flags = ['readwrite'])\n",
    "    while not it.finished:\n",
    "        idx = it.multi_index\n",
    "        tmp_val = x[idx]\n",
    "        x[idx] = float(tmp_val) +h\n",
    "        fxh1 = f(x)\n",
    "        \n",
    "        x[idx] = tmp_val -h\n",
    "        fxh2 = f(x)\n",
    "        grad[idx] = (fxh1-fxh2)/(2*h)\n",
    "        \n",
    "        x[idx] = tmp_val\n",
    "        it.iternext()\n",
    "        \n",
    "    return grad\n",
    "        "
   ]
  },
  {
   "cell_type": "code",
   "execution_count": 89,
   "id": "8e14a401",
   "metadata": {},
   "outputs": [
    {
     "name": "stdout",
     "output_type": "stream",
     "text": [
      "[[-1.09870218 -1.74371477 -0.25803557]\n",
      " [ 0.3448891  -0.47321063 -0.03685876]]\n"
     ]
    }
   ],
   "source": [
    "net = simpleNet()\n",
    "print(net.W) # 가중치 매개변수"
   ]
  },
  {
   "cell_type": "code",
   "execution_count": 90,
   "id": "832cef8f",
   "metadata": {},
   "outputs": [
    {
     "name": "stdout",
     "output_type": "stream",
     "text": [
      "[-0.34882112 -1.47211843 -0.18799423]\n"
     ]
    }
   ],
   "source": [
    "x = np.array([0.6,0.9])\n",
    "p = net.predict(x)\n",
    "print(p)"
   ]
  },
  {
   "cell_type": "code",
   "execution_count": 91,
   "id": "ea307592",
   "metadata": {},
   "outputs": [
    {
     "data": {
      "text/plain": [
       "2"
      ]
     },
     "execution_count": 91,
     "metadata": {},
     "output_type": "execute_result"
    }
   ],
   "source": [
    "np.argmax(p)"
   ]
  },
  {
   "cell_type": "code",
   "execution_count": 92,
   "id": "d4a20f99",
   "metadata": {},
   "outputs": [
    {
     "data": {
      "text/plain": [
       "0.7553385636328112"
      ]
     },
     "execution_count": 92,
     "metadata": {},
     "output_type": "execute_result"
    }
   ],
   "source": [
    "t = np.array([0,0,1]) #p 에서 2번째 값이 참이라고 햇을떄 손실값 \n",
    "net.loss(x, t)"
   ]
  },
  {
   "cell_type": "code",
   "execution_count": 93,
   "id": "49f90160",
   "metadata": {},
   "outputs": [],
   "source": [
    "def f(W): #기울기 구함 \n",
    "    return net.loss(x,t)"
   ]
  },
  {
   "cell_type": "code",
   "execution_count": 94,
   "id": "208434b0",
   "metadata": {},
   "outputs": [
    {
     "name": "stdout",
     "output_type": "stream",
     "text": [
      "[[ 0.24002997  0.07805912 -0.31808908]\n",
      " [ 0.36004495  0.11708868 -0.47713363]]\n"
     ]
    }
   ],
   "source": [
    "dW = numerical_gradient(f,net.W)\n",
    "print(dW)"
   ]
  },
  {
   "cell_type": "code",
   "execution_count": 95,
   "id": "ac6ecd96",
   "metadata": {},
   "outputs": [],
   "source": [
    "#좀 더 편리하게 \n",
    "f = lambda w:net.loss(x,t)\n",
    "dw = numerical_gradient(f,net.W)"
   ]
  },
  {
   "cell_type": "code",
   "execution_count": 96,
   "id": "1d3db569",
   "metadata": {},
   "outputs": [],
   "source": []
  },
  {
   "cell_type": "markdown",
   "id": "63574b9c",
   "metadata": {},
   "source": [
    "###  2층 신경망 클래스 구현"
   ]
  },
  {
   "cell_type": "code",
   "execution_count": 175,
   "id": "cc60b559",
   "metadata": {},
   "outputs": [],
   "source": [
    "import sys, os\n",
    "sys.path.append(\"./dataset\")\n",
    "import numpy as np\n",
    "import pickle\n",
    "from mnist_dataset.mnist import load_mnist\n",
    "import matplotlib.pylab as plt"
   ]
  },
  {
   "cell_type": "code",
   "execution_count": 176,
   "id": "a64523ce",
   "metadata": {},
   "outputs": [],
   "source": [
    "def step_function(x):\n",
    "    return np.array(x >0 , dtype= np.int)\n",
    "def sigmoid(x):\n",
    "    return 1/ (1+np.exp(-x))\n",
    "def relu(x):\n",
    "    return np.maximum(0,x)\n",
    "def sigmoid_grad(x):\n",
    "    return (1.0 -sigmoid(x))*sigmoid(x)"
   ]
  },
  {
   "cell_type": "code",
   "execution_count": 177,
   "id": "02f7ffe8",
   "metadata": {},
   "outputs": [],
   "source": [
    "def sigmoid(x):\n",
    "    return 1/ (1+np.exp(-x))\n",
    "def sigmoid_grad(x):\n",
    "    return (1.0 -sigmoid(x))*sigmoid(x)\n",
    "def relu(x):\n",
    "    return np.maximum(0,x)\n",
    "def relu_grad(x):\n",
    "    grad = np.zeros(x)\n",
    "    grad[x>=0] =1\n",
    "    return grad\n",
    "def softmax(x):\n",
    "    if x.ndim ==2:\n",
    "        x = x.T\n",
    "        x = x -np.max(x,axis=0)\n",
    "        y = np.exp(x)/np.sum(np.exp(x),axis=0)\n",
    "        return y.T\n",
    "    x = x -np.max(x)\n",
    "    return np.exp(x)/np.sum(np.exp(x))\n",
    "\n",
    "def mean_squared_error(y,t):\n",
    "    return 0.5*np.sum((y-t)**2)\n",
    "def cross_entropy_error(y,t):\n",
    "    if y.ndim ==1:\n",
    "        t = t.reshape(1, t.size)\n",
    "        y = y.reshape(1, y.size)\n",
    "    if t.size == y.size:\n",
    "        t = t.argmax(axis =1)\n",
    "    batch_size = y.shape[0]\n",
    "    return -np.sum(np.log(y[np.arange(batch_size),t]+1e-7))/batch_size\n",
    "def softmax_loss(X,t):\n",
    "    y = softmax(X)\n",
    "    return cross_entropy_error(y,t)\n",
    "def numerical_gradient(f,x):\n",
    "    h = 1e-4\n",
    "    grad = np.zeros_like(x)\n",
    "    it = np.nditer(x,flags = ['multi_index'], op_flags = ['readwrite'])\n",
    "    while not it.finished:\n",
    "        idx = it.multi_index\n",
    "        tmp_val = x[idx]\n",
    "        x[idx] = float(tmp_val)+h\n",
    "        fxh1 = f(x)\n",
    "        x[idx] =tmp_val-h\n",
    "        fxh2 = f(x)\n",
    "        grad[idx] = (fxh1-fxh2)/(2*h)\n",
    "        x[idx] =tmp_val\n",
    "        it.iternext()\n",
    "    return grad\n",
    "        "
   ]
  },
  {
   "cell_type": "code",
   "execution_count": 194,
   "id": "561b9ab2",
   "metadata": {},
   "outputs": [],
   "source": [
    "class TwoLayerNet:\n",
    "    def __init__(self, input_size, hidden_size, output_size, weight_init_std=0.01):\n",
    "        self.params = {}\n",
    "        self.params['W1'] = weight_init_std * np.random.randn(input_size, hidden_size)\n",
    "        self.params['b1'] = np.zeros(hidden_size)\n",
    "        self.params['W2'] = weight_init_std * np.random.randn(hidden_size, output_size)\n",
    "        self.params['b2'] = np.zeros(output_size)\n",
    "    \n",
    "    def predict(self, x):\n",
    "        W1, W2 = self.params['W1'], self.params['W2']\n",
    "        b1, b2 = self.params['b1'], self.params['b2']\n",
    "        \n",
    "        a1 = np.dot(x, W1) + b1\n",
    "        z1 = sigmoid(a1)\n",
    "        a2 = np.dot(z1, W2) + b2\n",
    "        y = softmax(a2)\n",
    "        return y\n",
    "    \n",
    "    def loss(self, x, t):\n",
    "        y = self.predict(x)\n",
    "        return cross_entropy_error(y, t)\n",
    "    \n",
    "    def accuracy(self, x, t):\n",
    "        y = self.predict(x)\n",
    "        y = np.argmax(y, axis=1)\n",
    "        t = np.argmax(t, axis=1)\n",
    "        \n",
    "        accuracy = np.sum(y == t) / float(x.shape[0])\n",
    "        return accuracy\n",
    "    \n",
    "    def numerical_gradient(self, x, t):\n",
    "        loss_W = lambda W: self.loss(x, t)\n",
    "        \n",
    "        grads = {}\n",
    "        grads['W1'] = numerical_gradient(loss_W, self.params['W1'])\n",
    "        grads['b1'] = numerical_gradient(loss_W, self.params['b1'])        \n",
    "        grads['W2'] = numerical_gradient(loss_W, self.params['W2'])        \n",
    "        grads['b2'] = numerical_gradient(loss_W, self.params['b2'])  \n",
    "        return grads\n",
    "    \n",
    "    def gradient(self, x, t):\n",
    "        W1, W2 = self.params['W1'], self.params['W2']\n",
    "        b1, b2 = self.params['b1'], self.params['b2']\n",
    "        grads={}\n",
    "        \n",
    "        batch_num = x.shape[0]\n",
    "        \n",
    "        #forward\n",
    "        a1 = np.dot(x, W1) + b1\n",
    "        z1 = sigmoid(a1)\n",
    "        a2 = np.dot(z1, W2) + b2\n",
    "        y = softmax(a2)\n",
    "        \n",
    "        #backward y값을 뒤쪽으로 계산\n",
    "        dy = (y - t) / batch_num\n",
    "        grads['W2'] = np.dot(z1.T, dy)\n",
    "        grads['b2'] = np.sum(dy, axis=0)\n",
    "        \n",
    "        dz1 = np.dot(dy, W2.T)\n",
    "        da1 = sigmoid_grad(a1) * dz1\n",
    "        grads['W1'] = np.dot(x.T, da1)\n",
    "        grads['b1'] = np.sum(da1, axis=0)\n",
    "        \n",
    "        return grads\n",
    "    \n",
    "    "
   ]
  },
  {
   "cell_type": "code",
   "execution_count": 195,
   "id": "e48b117c",
   "metadata": {},
   "outputs": [],
   "source": [
    "net = TwoLayerNet(input_size = 784, hidden_size = 50, output_size =10)"
   ]
  },
  {
   "cell_type": "code",
   "execution_count": 196,
   "id": "06c3e68b",
   "metadata": {},
   "outputs": [
    {
     "name": "stdout",
     "output_type": "stream",
     "text": [
      "(784, 50)\n",
      "(50,)\n",
      "(50, 10)\n",
      "(10,)\n"
     ]
    }
   ],
   "source": [
    "print(net.params[\"W1\"].shape)\n",
    "print(net.params[\"b1\"].shape)\n",
    "print(net.params[\"W2\"].shape)\n",
    "print(net.params[\"b2\"].shape)\n"
   ]
  },
  {
   "cell_type": "code",
   "execution_count": 197,
   "id": "6f52e058",
   "metadata": {},
   "outputs": [],
   "source": [
    "x = np.random.rand(100,784)\n",
    "y = net.predict(x)"
   ]
  },
  {
   "cell_type": "code",
   "execution_count": 198,
   "id": "387b744f",
   "metadata": {},
   "outputs": [],
   "source": [
    "x = np.random.rand(100,784)\n",
    "t = np.random.rand(100,10)\n",
    "\n",
    "grads = net.numerical_gradient(x,t)"
   ]
  },
  {
   "cell_type": "code",
   "execution_count": 199,
   "id": "9cd6292c",
   "metadata": {},
   "outputs": [
    {
     "name": "stdout",
     "output_type": "stream",
     "text": [
      "(784, 50)\n",
      "(50,)\n",
      "(50, 10)\n",
      "(10,)\n"
     ]
    }
   ],
   "source": [
    "print(grads[\"W1\"].shape)\n",
    "print(grads[\"b1\"].shape)\n",
    "print(grads[\"W2\"].shape)\n",
    "print(grads[\"b2\"].shape)"
   ]
  },
  {
   "cell_type": "code",
   "execution_count": 200,
   "id": "d5c3c562",
   "metadata": {},
   "outputs": [],
   "source": [
    "#미니배치 학습 구현\n",
    "(x_train, t_train),(x_test,t_test) =load_mnist(normalize =True, one_hot_label =True)\n"
   ]
  },
  {
   "cell_type": "code",
   "execution_count": 201,
   "id": "d98c5d10",
   "metadata": {},
   "outputs": [],
   "source": [
    "train_loss_list = []"
   ]
  },
  {
   "cell_type": "code",
   "execution_count": 202,
   "id": "b91512d3",
   "metadata": {},
   "outputs": [],
   "source": [
    "iters_num =10000\n",
    "train_size = x_train.shape[0]\n",
    "batch_size = 100 #미니배치크기 100\n",
    "learning_rate =0.1\n",
    "iter_per_epoch = max(train_size/batch_size,1)"
   ]
  },
  {
   "cell_type": "code",
   "execution_count": 203,
   "id": "131dac15",
   "metadata": {},
   "outputs": [],
   "source": [
    "network = TwoLayerNet(input_size = 784, hidden_size =50, output_size =10)"
   ]
  },
  {
   "cell_type": "code",
   "execution_count": 204,
   "id": "48aed2da",
   "metadata": {},
   "outputs": [
    {
     "name": "stdout",
     "output_type": "stream",
     "text": [
      "loss:2.2978110853798785\n",
      "loss:0.8273235092076965\n",
      "loss:0.4169643496963497\n",
      "loss:0.3315141381163576\n",
      "loss:0.30536451741384885\n",
      "loss:0.31253259034169345\n",
      "loss:0.21990135733556568\n",
      "loss:0.3763100958680581\n",
      "loss:0.19181262166767205\n",
      "loss:0.25025629112065745\n",
      "loss:0.18024534863291483\n",
      "loss:0.25381105469388987\n",
      "loss:0.1398479359573926\n",
      "loss:0.11575064105250403\n",
      "loss:0.20053492168091022\n",
      "loss:0.19306258633900267\n",
      "loss:0.1777729003322579\n"
     ]
    }
   ],
   "source": [
    "for i in range(iters_num):\n",
    "    batch_mask = np.random.choice(train_size, batch_size)\n",
    "    x_batch = x_train[batch_mask]\n",
    "    t_batch = t_train[batch_mask]\n",
    "    \n",
    "    grad = network.gradient(x_batch, t_batch)\n",
    "    \n",
    "    for key in ('W1','b1','W2','b2'):\n",
    "        network.params[key]-=learning_rate*grad[key]\n",
    "        \n",
    "    loss = network.loss(x_batch, t_batch)\n",
    "    train_loss_list.append(loss)\n",
    "    \n",
    "    if i % iter_per_epoch ==0:\n",
    "        print(\"loss:\"+str(loss))"
   ]
  },
  {
   "cell_type": "code",
   "execution_count": 207,
   "id": "4ceea1a6",
   "metadata": {},
   "outputs": [
    {
     "data": {
      "image/png": "[encoded data removed]",
      "text/plain": [
       "<Figure size 1080x720 with 1 Axes>"
      ]
     },
     "metadata": {
      "needs_background": "light"
     },
     "output_type": "display_data"
    }
   ],
   "source": [
    "x = np.arange(len(train_loss_list))\n",
    "\n",
    "plt.figure(figsize =(15,10))\n",
    "plt.plot(x,train_loss_list, label = 'train acc')\n",
    "plt.xlabel(\"iteration\")\n",
    "plt.ylabel(\"loss\")\n",
    "plt.show()"
   ]
  },
  {
   "cell_type": "code",
   "execution_count": 208,
   "id": "2d971aa0",
   "metadata": {},
   "outputs": [],
   "source": [
    "(x_train, t_train),(x_test, t_test) = load_mnist(normalize = True, one_hot_label = True)"
   ]
  },
  {
   "cell_type": "code",
   "execution_count": 214,
   "id": "71c323e8",
   "metadata": {},
   "outputs": [],
   "source": [
    "train_loss_list = []\n",
    "train_acc_list = []\n",
    "test_acc_list = []"
   ]
  },
  {
   "cell_type": "code",
   "execution_count": 215,
   "id": "4f840bc0",
   "metadata": {},
   "outputs": [
    {
     "data": {
      "text/plain": [
       "0.0"
      ]
     },
     "execution_count": 215,
     "metadata": {},
     "output_type": "execute_result"
    }
   ],
   "source": [
    "iters_num =10000\n",
    "train_size = x_train.shape[0]\n",
    "batch_size =100\n",
    "learning_rate = 0.1\n",
    "iter_per_epoch - max(train_size/batch_size,1)"
   ]
  },
  {
   "cell_type": "code",
   "execution_count": 216,
   "id": "855bd40e",
   "metadata": {},
   "outputs": [],
   "source": [
    "network = TwoLayerNet(input_size =784, hidden_size =50, output_size=10)"
   ]
  },
  {
   "cell_type": "code",
   "execution_count": 217,
   "id": "df1441ca",
   "metadata": {},
   "outputs": [
    {
     "name": "stdout",
     "output_type": "stream",
     "text": [
      "loss: 2.2957421391267068,train acc: 0.10441666666666667, test acc: 0.1028\n",
      "loss: 0.9017950555552212,train acc: 0.7969833333333334, test acc: 0.7988\n",
      "loss: 0.40482743581710506,train acc: 0.8789166666666667, test acc: 0.8829\n",
      "loss: 0.31230581010573033,train acc: 0.8981166666666667, test acc: 0.9026\n",
      "loss: 0.3398229924880958,train acc: 0.90825, test acc: 0.9107\n",
      "loss: 0.35861566800594263,train acc: 0.91415, test acc: 0.918\n",
      "loss: 0.24625810817638036,train acc: 0.9196166666666666, test acc: 0.9222\n",
      "loss: 0.4122256581880312,train acc: 0.9233, test acc: 0.9255\n",
      "loss: 0.2644930317322962,train acc: 0.9275, test acc: 0.9278\n",
      "loss: 0.32204667868792597,train acc: 0.9303166666666667, test acc: 0.9323\n",
      "loss: 0.25996717006471004,train acc: 0.9343833333333333, test acc: 0.9362\n",
      "loss: 0.17285436775316998,train acc: 0.9373, test acc: 0.9366\n",
      "loss: 0.17244904562481103,train acc: 0.9398, test acc: 0.9395\n",
      "loss: 0.1740487942899156,train acc: 0.9419333333333333, test acc: 0.9417\n",
      "loss: 0.2747050446718017,train acc: 0.9439333333333333, test acc: 0.9424\n",
      "loss: 0.14158616094148152,train acc: 0.9451, test acc: 0.9435\n",
      "loss: 0.1864560795765896,train acc: 0.9473833333333334, test acc: 0.9464\n"
     ]
    }
   ],
   "source": [
    "# loss값이 떨어지면서 안정적인거 확인 가능, test acc 데이터도 높아짐 \n",
    "#  accuaracy 향상되는거 볼 수 있음\n",
    "for i in range(iters_num):\n",
    "    batch_mask = np.random.choice(train_size, batch_size)\n",
    "    x_batch = x_train[batch_mask]\n",
    "    t_batch = t_train[batch_mask]\n",
    "    \n",
    "    grad = network.gradient(x_batch, t_batch)\n",
    "    \n",
    "    for key in ('W1','b1','W2','b2'):\n",
    "        network.params[key]-=learning_rate*grad[key]\n",
    "        \n",
    "    loss = network.loss(x_batch, t_batch)\n",
    "    train_loss_list.append(loss)\n",
    "    \n",
    "    if i % iter_per_epoch ==0:\n",
    "        train_acc = network.accuracy (x_train, t_train)\n",
    "        test_acc = network.accuracy(x_test, t_test)\n",
    "        train_acc_list.append(train_acc)\n",
    "        test_acc_list.append(test_acc)\n",
    "        print(\"loss: \" +str(loss)+\",train acc: \" + str(train_acc)+\", test acc: \"+str(test_acc))"
   ]
  },
  {
   "cell_type": "code",
   "execution_count": 218,
   "id": "be7d9acb",
   "metadata": {},
   "outputs": [
    {
     "data": {
      "image/png": "[encoded data removed]",
      "text/plain": [
       "<Figure size 1080x720 with 1 Axes>"
      ]
     },
     "metadata": {
      "needs_background": "light"
     },
     "output_type": "display_data"
    }
   ],
   "source": [
    "markers = {'train': 'o','test':'s'}\n",
    "x = np.arange(len(train_acc_list))\n",
    "\n",
    "plt.figure(figsize =(15,10))\n",
    "plt.plot(x, train_acc_list, label = 'train acc')\n",
    "plt.plot(x, test_acc_list, label = 'test acc', linestyle = '--')\n",
    "plt.xlabel(\"epochs\")\n",
    "plt.ylabel(\"accuracy\")\n",
    "plt.ylim(0,1.0)\n",
    "plt.legend(loc = 'lower right')\n",
    "plt.show()"
   ]
  },
  {
   "cell_type": "code",
   "execution_count": null,
   "id": "059a77a9",
   "metadata": {},
   "outputs": [],
   "source": []
  },
  {
   "cell_type": "code",
   "execution_count": null,
   "id": "735d00d9",
   "metadata": {},
   "outputs": [],
   "source": []
  },
  {
   "cell_type": "code",
   "execution_count": null,
   "id": "e7c1afc3",
   "metadata": {},
   "outputs": [],
   "source": []
  }
 ],
 "metadata": {
  "kernelspec": {
   "display_name": "Python 3",
   "language": "python",
   "name": "python3"
  },
  "language_info": {
   "codemirror_mode": {
    "name": "ipython",
    "version": 3
   },
   "file_extension": ".py",
   "mimetype": "text/x-python",
   "name": "python",
   "nbconvert_exporter": "python",
   "pygments_lexer": "ipython3",
   "version": "3.7.10"
  }
 },
 "nbformat": 4,
 "nbformat_minor": 5
}
