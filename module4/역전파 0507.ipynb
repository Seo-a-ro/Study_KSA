{
 "cells": [
  {
   "cell_type": "code",
   "execution_count": 1,
   "id": "3d960ab8",
   "metadata": {},
   "outputs": [],
   "source": [
    "class MulLayer:\n",
    "    def __init__(self):\n",
    "        self.x = None\n",
    "        self.y = None\n",
    "        \n",
    "    def forward(self,x,y):\n",
    "        self.x = x\n",
    "        self.y = y\n",
    "        out = x*y\n",
    "        \n",
    "        return out\n",
    "    \n",
    "    def backward(self, dout):\n",
    "        dx = dout*self.y\n",
    "        dy = dout*self.x\n",
    "        \n",
    "        return dx, dy"
   ]
  },
  {
   "cell_type": "code",
   "execution_count": 2,
   "id": "95932c8d",
   "metadata": {},
   "outputs": [],
   "source": [
    "apple=100\n",
    "apple_num =2\n",
    "tax =1.1"
   ]
  },
  {
   "cell_type": "code",
   "execution_count": 3,
   "id": "de967ff7",
   "metadata": {},
   "outputs": [],
   "source": [
    "mul_apple_layer = MulLayer()\n",
    "mul_tax_layer = MulLayer()"
   ]
  },
  {
   "cell_type": "code",
   "execution_count": 4,
   "id": "2f579790",
   "metadata": {},
   "outputs": [],
   "source": [
    "apple_price = mul_apple_layer.forward(apple, apple_num)\n",
    "price = mul_tax_layer.forward(apple_price,tax)"
   ]
  },
  {
   "cell_type": "code",
   "execution_count": 5,
   "id": "d3afe18f",
   "metadata": {},
   "outputs": [],
   "source": [
    "dprice = 1 #미분값이 1이 들어왔다면 계산 \n",
    "dapple_price, dtax = mul_tax_layer.backward(dprice)\n",
    "dapple,dapple_num = mul_apple_layer.backward(dapple_price)"
   ]
  },
  {
   "cell_type": "code",
   "execution_count": 6,
   "id": "49c82a4a",
   "metadata": {},
   "outputs": [
    {
     "name": "stdout",
     "output_type": "stream",
     "text": [
      "price: 220\n",
      "dApple: 2.2\n",
      "dApple_num: 110\n",
      "dTax: 200\n"
     ]
    }
   ],
   "source": [
    "#개별적인 결과들이 나옴 \n",
    "print(\"price:\",int(price))\n",
    "print(\"dApple:\",dapple)\n",
    "print(\"dApple_num:\",int(dapple_num))\n",
    "print(\"dTax:\",dtax)"
   ]
  },
  {
   "cell_type": "code",
   "execution_count": 7,
   "id": "42225d8f",
   "metadata": {},
   "outputs": [],
   "source": [
    "class AddLayer:\n",
    "    def __init__(self):\n",
    "        pass\n",
    "    def forward(self,x,y):\n",
    "        out = x+y\n",
    "        \n",
    "        return out\n",
    "    \n",
    "    def backward(self,dout): #backward 는 그냥 넘겨줌 \n",
    "        dx = dout*1\n",
    "        dy = dout*1\n",
    "        \n",
    "        return dx, dy"
   ]
  },
  {
   "cell_type": "code",
   "execution_count": 8,
   "id": "c2a3d7de",
   "metadata": {},
   "outputs": [],
   "source": [
    "apple =100\n",
    "apple_num =2\n",
    "orange = 150\n",
    "orange_num =3\n",
    "tax =1.1"
   ]
  },
  {
   "cell_type": "code",
   "execution_count": 9,
   "id": "95ce498a",
   "metadata": {},
   "outputs": [],
   "source": [
    "mul_apple_layer = MulLayer()\n",
    "mul_orange_layer = MulLayer()\n",
    "add_apple_orange_layer = AddLayer()\n",
    "mul_tax_layer = MulLayer()"
   ]
  },
  {
   "cell_type": "code",
   "execution_count": 10,
   "id": "78fb07f9",
   "metadata": {},
   "outputs": [],
   "source": [
    "apple_price = mul_apple_layer.forward(apple,apple_num)\n",
    "orange_price = mul_orange_layer.forward(orange,orange_num)\n",
    "all_price = add_apple_orange_layer.forward(apple_price,orange_price)\n",
    "price = mul_tax_layer.forward(all_price,tax)"
   ]
  },
  {
   "cell_type": "code",
   "execution_count": 11,
   "id": "d4864986",
   "metadata": {},
   "outputs": [],
   "source": [
    "dprice =1\n",
    "dall_price, dtax = mul_tax_layer.backward(dprice)\n",
    "dapple_price,dorange_price = add_apple_orange_layer.backward(dall_price)\n",
    "dorange,dorange_num = mul_orange_layer.backward(dorange_price)\n",
    "dapple,dapple_num = mul_apple_layer.backward(dapple_price)"
   ]
  },
  {
   "cell_type": "code",
   "execution_count": 12,
   "id": "c3320613",
   "metadata": {},
   "outputs": [
    {
     "name": "stdout",
     "output_type": "stream",
     "text": [
      "price: 715\n",
      "dApple: 2.2\n",
      "dApple_num: 110\n",
      "dOrange_num: 165\n",
      "dTax: 650\n"
     ]
    }
   ],
   "source": [
    "print(\"price:\",int(price))\n",
    "print(\"dApple:\",dapple)\n",
    "print(\"dApple_num:\",int(dapple_num))\n",
    "print(\"dOrange_num:\",int(dorange_num))\n",
    "print(\"dTax:\",dtax)"
   ]
  },
  {
   "cell_type": "markdown",
   "id": "4e777ab1",
   "metadata": {},
   "source": [
    "### 활성화 함수 구현 "
   ]
  },
  {
   "cell_type": "markdown",
   "id": "0a6f0ee5",
   "metadata": {},
   "source": [
    "#### relu 계층 구현하기 : x가 0보다 크면 역전파 상류의 값을 그대로 하류로 흘림/ x가 0이하면 역전파 때는 하류로 0을 보냄"
   ]
  },
  {
   "cell_type": "code",
   "execution_count": 13,
   "id": "a7869dd1",
   "metadata": {},
   "outputs": [],
   "source": [
    "class Relu:\n",
    "    def __init__(self):\n",
    "        self.mask =None #mask 는 True/False로 구성된 넘파이 배열 \n",
    "        \n",
    "    def forward(self,x):\n",
    "        self.mask = (x <=0)\n",
    "        out= x.copy\n",
    "        out[self.mask] =0\n",
    "        \n",
    "    def backward(self,dout):\n",
    "        dout[self.mask] =0\n",
    "        dx = dout\n",
    "        \n",
    "        return dx"
   ]
  },
  {
   "cell_type": "code",
   "execution_count": 26,
   "id": "60b0d56f",
   "metadata": {},
   "outputs": [
    {
     "name": "stdout",
     "output_type": "stream",
     "text": [
      "[[ 1. -5.]\n",
      " [-2.  3.]]\n"
     ]
    }
   ],
   "source": [
    "import numpy as np\n",
    "x  = np.array([[1.0,-5.0],[-2.0,3.0]])\n",
    "print(x)"
   ]
  },
  {
   "cell_type": "code",
   "execution_count": 31,
   "id": "8bed75df",
   "metadata": {},
   "outputs": [
    {
     "name": "stdout",
     "output_type": "stream",
     "text": [
      "[[False  True]\n",
      " [ True False]]\n"
     ]
    }
   ],
   "source": [
    "mask=(x <=0)\n",
    "print(mask)"
   ]
  },
  {
   "cell_type": "markdown",
   "id": "a5badaed",
   "metadata": {},
   "source": [
    "#### sigmoid 계층 구현하기"
   ]
  },
  {
   "cell_type": "code",
   "execution_count": 34,
   "id": "73bfa708",
   "metadata": {},
   "outputs": [],
   "source": [
    "class Sigmoid:\n",
    "    def __init__(self):\n",
    "        self.out = None\n",
    "    \n",
    "    def forward(self,x):\n",
    "        out =1/(1+np.exp(-x))\n",
    "        self.out = out\n",
    "        \n",
    "        return out\n",
    "    \n",
    "\n",
    "    def backward(self,dout):\n",
    "        dx = dout *(1.0 - self.out)*self.out\n",
    "        \n",
    "        return dx\n",
    "    "
   ]
  },
  {
   "cell_type": "code",
   "execution_count": 48,
   "id": "61921d8f",
   "metadata": {},
   "outputs": [
    {
     "name": "stdout",
     "output_type": "stream",
     "text": [
      "(2,)\n",
      "(2, 3)\n",
      "(3,)\n"
     ]
    }
   ],
   "source": [
    "X = np.random.rand(2) #입력\n",
    "W = np.random.rand(2, 3) #가중치\n",
    "B = np.random.rand(3) #편향\n",
    "\n",
    "print(X.shape)\n",
    "print(W.shape)\n",
    "print(B.shape)\n"
   ]
  },
  {
   "cell_type": "code",
   "execution_count": 36,
   "id": "12dd1be6",
   "metadata": {},
   "outputs": [
    {
     "name": "stdout",
     "output_type": "stream",
     "text": [
      "[1.16101882 1.0576344  0.98046046]\n"
     ]
    }
   ],
   "source": [
    "Y = np.dot(X,W) +B\n",
    "print(Y)"
   ]
  },
  {
   "cell_type": "code",
   "execution_count": 38,
   "id": "887ae685",
   "metadata": {},
   "outputs": [],
   "source": [
    "X_dot_W = np.array([[0,0,0],[10,10,10]]) \n",
    "B = np.array([1,2,3])"
   ]
  },
  {
   "cell_type": "code",
   "execution_count": 40,
   "id": "0f53f38a",
   "metadata": {},
   "outputs": [
    {
     "data": {
      "text/plain": [
       "array([[ 0,  0,  0],\n",
       "       [10, 10, 10]])"
      ]
     },
     "execution_count": 40,
     "metadata": {},
     "output_type": "execute_result"
    }
   ],
   "source": [
    "X_dot_W"
   ]
  },
  {
   "cell_type": "code",
   "execution_count": 41,
   "id": "acdc72ea",
   "metadata": {},
   "outputs": [
    {
     "data": {
      "text/plain": [
       "array([[ 1,  2,  3],\n",
       "       [11, 12, 13]])"
      ]
     },
     "execution_count": 41,
     "metadata": {},
     "output_type": "execute_result"
    }
   ],
   "source": [
    "X_dot_W +B"
   ]
  },
  {
   "cell_type": "code",
   "execution_count": 42,
   "id": "b16ae085",
   "metadata": {},
   "outputs": [
    {
     "data": {
      "text/plain": [
       "array([[1, 2, 3],\n",
       "       [4, 5, 6]])"
      ]
     },
     "execution_count": 42,
     "metadata": {},
     "output_type": "execute_result"
    }
   ],
   "source": [
    "dY = np.array([[1,2,3],[4,5,6]])\n",
    "dY               "
   ]
  },
  {
   "cell_type": "code",
   "execution_count": 44,
   "id": "bf84b8cd",
   "metadata": {},
   "outputs": [
    {
     "data": {
      "text/plain": [
       "array([5, 7, 9])"
      ]
     },
     "execution_count": 44,
     "metadata": {},
     "output_type": "execute_result"
    }
   ],
   "source": [
    "dB = np.sum(dY,axis=0)\n",
    "dB"
   ]
  },
  {
   "cell_type": "code",
   "execution_count": 45,
   "id": "c8279438",
   "metadata": {},
   "outputs": [],
   "source": [
    "class Affine:\n",
    "    def __init__(self,w,b):\n",
    "        self.w =w\n",
    "        self.b = b\n",
    "        self.x = None\n",
    "        self.dw = None\n",
    "        self.db = None\n",
    "        \n",
    "    def forward(self, x):\n",
    "        self.x =x\n",
    "        out = np.dot(x,self.w) +self.b\n",
    "        \n",
    "        return out\n",
    "    \n",
    "    \n",
    "    def backword(self,out):\n",
    "        dx = np.dot(dout,self.W.T)\n",
    "        self.dw = np.dot(self.W.T ,dout)\n",
    "        self.db = np.sum(dout,axis=0)\n",
    "        \n",
    "        return dx"
   ]
  },
  {
   "cell_type": "code",
   "execution_count": null,
   "id": "0eaf136c",
   "metadata": {},
   "outputs": [],
   "source": []
  }
 ],
 "metadata": {
  "kernelspec": {
   "display_name": "Python 3",
   "language": "python",
   "name": "python3"
  },
  "language_info": {
   "codemirror_mode": {
    "name": "ipython",
    "version": 3
   },
   "file_extension": ".py",
   "mimetype": "text/x-python",
   "name": "python",
   "nbconvert_exporter": "python",
   "pygments_lexer": "ipython3",
   "version": "3.7.10"
  }
 },
 "nbformat": 4,
 "nbformat_minor": 5
}
