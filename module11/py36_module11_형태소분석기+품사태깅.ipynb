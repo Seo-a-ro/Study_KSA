{
  "nbformat": 4,
  "nbformat_minor": 0,
  "metadata": {
    "colab": {
      "name": "py36_module11_형태소분석기+품사태깅.ipynb",
      "provenance": [],
      "collapsed_sections": []
    },
    "kernelspec": {
      "name": "python3",
      "display_name": "Python 3"
    },
    "language_info": {
      "name": "python"
    },
    "accelerator": "GPU"
  },
  "cells": [
    {
      "cell_type": "code",
      "metadata": {
        "id": "VeXeyBgIC175"
      },
      "source": [
        "## 1. Konlpy 패키지 다운로드(런타임 환경 로드시 한번만 )"
      ],
      "execution_count": null,
      "outputs": []
    },
    {
      "cell_type": "code",
      "metadata": {
        "colab": {
          "base_uri": "https://localhost:8080/"
        },
        "id": "bETAVwXKCPb4",
        "outputId": "5e8b5e82-b3b5-4410-8132-0b1ab9cf3fba"
      },
      "source": [
        "!pip install konlpy"
      ],
      "execution_count": null,
      "outputs": [
        {
          "output_type": "stream",
          "text": [
            "Collecting konlpy\n",
            "\u001b[?25l  Downloading https://files.pythonhosted.org/packages/85/0e/f385566fec837c0b83f216b2da65db9997b35dd675e107752005b7d392b1/konlpy-0.5.2-py2.py3-none-any.whl (19.4MB)\n",
            "\u001b[K     |████████████████████████████████| 19.4MB 1.2MB/s \n",
            "\u001b[?25hRequirement already satisfied: tweepy>=3.7.0 in /usr/local/lib/python3.7/dist-packages (from konlpy) (3.10.0)\n",
            "Requirement already satisfied: numpy>=1.6 in /usr/local/lib/python3.7/dist-packages (from konlpy) (1.19.5)\n",
            "Collecting beautifulsoup4==4.6.0\n",
            "\u001b[?25l  Downloading https://files.pythonhosted.org/packages/9e/d4/10f46e5cfac773e22707237bfcd51bbffeaf0a576b0a847ec7ab15bd7ace/beautifulsoup4-4.6.0-py3-none-any.whl (86kB)\n",
            "\u001b[K     |████████████████████████████████| 92kB 13.5MB/s \n",
            "\u001b[?25hCollecting JPype1>=0.7.0\n",
            "\u001b[?25l  Downloading https://files.pythonhosted.org/packages/98/88/f817ef1af6f794e8f11313dcd1549de833f4599abcec82746ab5ed086686/JPype1-1.3.0-cp37-cp37m-manylinux_2_5_x86_64.manylinux1_x86_64.whl (448kB)\n",
            "\u001b[K     |████████████████████████████████| 450kB 50.3MB/s \n",
            "\u001b[?25hCollecting colorama\n",
            "  Downloading https://files.pythonhosted.org/packages/44/98/5b86278fbbf250d239ae0ecb724f8572af1c91f4a11edf4d36a206189440/colorama-0.4.4-py2.py3-none-any.whl\n",
            "Requirement already satisfied: lxml>=4.1.0 in /usr/local/lib/python3.7/dist-packages (from konlpy) (4.2.6)\n",
            "Requirement already satisfied: six>=1.10.0 in /usr/local/lib/python3.7/dist-packages (from tweepy>=3.7.0->konlpy) (1.15.0)\n",
            "Requirement already satisfied: requests[socks]>=2.11.1 in /usr/local/lib/python3.7/dist-packages (from tweepy>=3.7.0->konlpy) (2.23.0)\n",
            "Requirement already satisfied: requests-oauthlib>=0.7.0 in /usr/local/lib/python3.7/dist-packages (from tweepy>=3.7.0->konlpy) (1.3.0)\n",
            "Requirement already satisfied: typing-extensions; python_version < \"3.8\" in /usr/local/lib/python3.7/dist-packages (from JPype1>=0.7.0->konlpy) (3.7.4.3)\n",
            "Requirement already satisfied: urllib3!=1.25.0,!=1.25.1,<1.26,>=1.21.1 in /usr/local/lib/python3.7/dist-packages (from requests[socks]>=2.11.1->tweepy>=3.7.0->konlpy) (1.24.3)\n",
            "Requirement already satisfied: certifi>=2017.4.17 in /usr/local/lib/python3.7/dist-packages (from requests[socks]>=2.11.1->tweepy>=3.7.0->konlpy) (2021.5.30)\n",
            "Requirement already satisfied: chardet<4,>=3.0.2 in /usr/local/lib/python3.7/dist-packages (from requests[socks]>=2.11.1->tweepy>=3.7.0->konlpy) (3.0.4)\n",
            "Requirement already satisfied: idna<3,>=2.5 in /usr/local/lib/python3.7/dist-packages (from requests[socks]>=2.11.1->tweepy>=3.7.0->konlpy) (2.10)\n",
            "Requirement already satisfied: PySocks!=1.5.7,>=1.5.6; extra == \"socks\" in /usr/local/lib/python3.7/dist-packages (from requests[socks]>=2.11.1->tweepy>=3.7.0->konlpy) (1.7.1)\n",
            "Requirement already satisfied: oauthlib>=3.0.0 in /usr/local/lib/python3.7/dist-packages (from requests-oauthlib>=0.7.0->tweepy>=3.7.0->konlpy) (3.1.1)\n",
            "Installing collected packages: beautifulsoup4, JPype1, colorama, konlpy\n",
            "  Found existing installation: beautifulsoup4 4.6.3\n",
            "    Uninstalling beautifulsoup4-4.6.3:\n",
            "      Successfully uninstalled beautifulsoup4-4.6.3\n",
            "Successfully installed JPype1-1.3.0 beautifulsoup4-4.6.0 colorama-0.4.4 konlpy-0.5.2\n"
          ],
          "name": "stdout"
        }
      ]
    },
    {
      "cell_type": "markdown",
      "metadata": {
        "id": "PESO7BCeC9om"
      },
      "source": [
        "## 2. konlpy 관련 패키지 import"
      ]
    },
    {
      "cell_type": "code",
      "metadata": {
        "id": "vPOeZcMxC0ll"
      },
      "source": [
        "from konlpy.tag import Okt\n",
        "from konlpy.tag import Kkma\n",
        "from konlpy.tag import Hannanum\n",
        "from konlpy.tag import Komoran\n",
        "from konlpy.tag import Twitter\n",
        "from konlpy.tag import Mecab"
      ],
      "execution_count": null,
      "outputs": []
    },
    {
      "cell_type": "markdown",
      "metadata": {
        "id": "iq86M1kjDPFM"
      },
      "source": [
        "## 3. 객체 생성"
      ]
    },
    {
      "cell_type": "code",
      "metadata": {
        "colab": {
          "base_uri": "https://localhost:8080/"
        },
        "id": "3M-KTLwjDRgC",
        "outputId": "1d784729-4213-4ce3-85f3-b5da9b26f0a6"
      },
      "source": [
        "kkma = Kkma()\n",
        "okt = Okt()\n",
        "komoran = Komoran()\n",
        "hannanum = Hannanum()\n",
        "twitter = Twitter()"
      ],
      "execution_count": null,
      "outputs": [
        {
          "output_type": "stream",
          "text": [
            "/usr/local/lib/python3.7/dist-packages/konlpy/tag/_okt.py:16: UserWarning: \"Twitter\" has changed to \"Okt\" since KoNLPy v0.4.5.\n",
            "  warn('\"Twitter\" has changed to \"Okt\" since KoNLPy v0.4.5.')\n"
          ],
          "name": "stderr"
        }
      ]
    },
    {
      "cell_type": "markdown",
      "metadata": {
        "id": "BFGGZLScDgX9"
      },
      "source": [
        "## 4. 문장분리(Kkma only)"
      ]
    },
    {
      "cell_type": "code",
      "metadata": {
        "colab": {
          "base_uri": "https://localhost:8080/"
        },
        "id": "qFWnnHrEDlMn",
        "outputId": "05a5c1d9-f64c-4fbc-923c-35c9542d5506"
      },
      "source": [
        "# konlpy 중 Kkma는 문장 분리가 가능( 다른 라이브러리는 되지 않음)\n",
        "print(\"kkma 문장 분리: \", kkma.sentences('네 안녕하세요 반갑습니다.'))"
      ],
      "execution_count": null,
      "outputs": [
        {
          "output_type": "stream",
          "text": [
            "kkma 문장 분리:  ['네 안녕하세요', '반갑습니다.']\n"
          ],
          "name": "stdout"
        }
      ]
    },
    {
      "cell_type": "code",
      "metadata": {
        "colab": {
          "base_uri": "https://localhost:8080/"
        },
        "id": "latvClVsI_Lz",
        "outputId": "40440b75-d136-4172-da7a-e9a9700fbb80"
      },
      "source": [
        "# konlpy 중 Kkma는 문장 분리가 가능( 다른 라이브러리는 되지 않음)\n",
        "print(\"kkma 문장 분리: \", kkma.sentences('네안녕하세요반갑습니다.'))"
      ],
      "execution_count": null,
      "outputs": [
        {
          "output_type": "stream",
          "text": [
            "kkma 문장 분리:  ['네 안녕하세요', '반갑습니다.']\n"
          ],
          "name": "stdout"
        }
      ]
    },
    {
      "cell_type": "markdown",
      "metadata": {
        "id": "AutPcw9xDxwQ"
      },
      "source": [
        "## 5. 형태소 분석"
      ]
    },
    {
      "cell_type": "code",
      "metadata": {
        "colab": {
          "base_uri": "https://localhost:8080/"
        },
        "id": "l85JdI9UD7BX",
        "outputId": "c45f1fa0-6bca-47fe-c138-5abfea547d63"
      },
      "source": [
        "in_str = u\"세종대왕님은 글을 만드셨습니다.\"\n",
        "\n",
        "# konlpy 의 라이브러리 형태소 분석 비교\n",
        "print(\"okt 형태소 분석:\", okt.morphs(in_str))\n",
        "print()\n",
        "print(\"kkma 형태소 분석:\", kkma.morphs(in_str))\n",
        "print()\n",
        "print(\"hannanum 형태소 분석:\", hannanum.morphs(in_str))\n",
        "print()\n",
        "print(\"komoran 형태소 분석:\", komoran.morphs(in_str))\n",
        "print()\n",
        "print(\"twitter 형태소 분석:\", twitter.morphs(in_str))"
      ],
      "execution_count": null,
      "outputs": [
        {
          "output_type": "stream",
          "text": [
            "okt 형태소 분석: ['세종대왕', '님', '은', '글', '을', '만드셨습니다', '.']\n",
            "\n",
            "kkma 형태소 분석: ['세종', '대왕', '님', '은', '글', '을', '만들', '시', '었', '습니다', '.']\n",
            "\n",
            "hannanum 형태소 분석: ['세종대왕님', '은', '글', '을', '만들', '셨습니다', '.']\n",
            "\n",
            "komoran 형태소 분석: ['세종대왕', '님', '은', '글', '을', '만들', '시', '었', '습니다', '.']\n",
            "\n",
            "twitter 형태소 분석: ['세종대왕', '님', '은', '글', '을', '만드셨습니다', '.']\n"
          ],
          "name": "stdout"
        }
      ]
    },
    {
      "cell_type": "markdown",
      "metadata": {
        "id": "CPs9mH09ET7y"
      },
      "source": [
        "6. 품사태깅"
      ]
    },
    {
      "cell_type": "code",
      "metadata": {
        "colab": {
          "base_uri": "https://localhost:8080/"
        },
        "id": "-RBCXrjOIYAH",
        "outputId": "57a3b517-e63f-4d24-c46f-65b80b4d0bbb"
      },
      "source": [
        "in_str = u\"세종대왕님은 글을 만드셨습니다.\"\n",
        "\n",
        "# konlpy 의 라이브러리 형태소 분석 비교\n",
        "print(\"okt 품사태깅:\", okt.pos(in_str))\n",
        "print()\n",
        "print(\"kkma 품사태깅:\", kkma.pos(in_str))\n",
        "print()\n",
        "print(\"hannanum 품사태깅:\", hannanum.pos(in_str))\n",
        "print()\n",
        "print(\"komoran 품사태깅:\", komoran.pos(in_str))\n",
        "print()\n",
        "print(\"twitter 품사태깅:\", twitter.pos(in_str))"
      ],
      "execution_count": null,
      "outputs": [
        {
          "output_type": "stream",
          "text": [
            "okt 품사태깅: [('세종대왕', 'Noun'), ('님', 'Suffix'), ('은', 'Josa'), ('글', 'Noun'), ('을', 'Josa'), ('만드셨습니다', 'Verb'), ('.', 'Punctuation')]\n",
            "\n",
            "kkma 품사태깅: [('세종', 'NNG'), ('대왕', 'NNG'), ('님', 'XSN'), ('은', 'JX'), ('글', 'NNG'), ('을', 'JKO'), ('만들', 'VV'), ('시', 'EPH'), ('었', 'EPT'), ('습니다', 'EFN'), ('.', 'SF')]\n",
            "\n",
            "hannanum 품사태깅: [('세종대왕님', 'N'), ('은', 'J'), ('글', 'N'), ('을', 'J'), ('만들', 'P'), ('셨습니다', 'E'), ('.', 'S')]\n",
            "\n",
            "komoran 품사태깅: [('세종대왕', 'NNP'), ('님', 'XSN'), ('은', 'JX'), ('글', 'NNG'), ('을', 'JKO'), ('만들', 'VV'), ('시', 'EP'), ('었', 'EP'), ('습니다', 'EF'), ('.', 'SF')]\n",
            "\n",
            "twitter 품사태깅: [('세종대왕', 'Noun'), ('님', 'Suffix'), ('은', 'Josa'), ('글', 'Noun'), ('을', 'Josa'), ('만드셨습니다', 'Verb'), ('.', 'Punctuation')]\n"
          ],
          "name": "stdout"
        }
      ]
    },
    {
      "cell_type": "code",
      "metadata": {
        "id": "65-MkCMZJde2"
      },
      "source": [
        ""
      ],
      "execution_count": null,
      "outputs": []
    }
  ]
}